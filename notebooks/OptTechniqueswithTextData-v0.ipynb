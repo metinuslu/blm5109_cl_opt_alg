{
 "cells": [
  {
   "cell_type": "markdown",
   "metadata": {},
   "source": [
    "# Opt. Techniques with Text Data"
   ]
  },
  {
   "cell_type": "code",
   "execution_count": 1,
   "metadata": {},
   "outputs": [],
   "source": [
    "# NLP Multi-Class Classification with DNN using Opt. Alg.\n",
    "\n",
    "# Datasets\n",
    "#  - AG News Classification Dataset : https://www.kaggle.com/datasets/amananandrai/ag-news-classification-dataset & http://groups.di.unipi.it/~gulli/AG_corpus_of_news_articles.html\n",
    "\n",
    "# Opt. Algorithms\n",
    "    # - Stokastik Gradient Descent\n",
    "    # - Stokastik Gradient Descent with Momentum\n",
    "    # - Stokastik Adam\n",
    "\n",
    "# AG News Dataset\n",
    "    # - Class Index: Consists of 1-4 numbers which represents class of which 1-World, 2-Sports, 3-Business, 4-Sci/Tech\n",
    "    # - Title: Contains Title of the Articles\n",
    "    # - Description: Contains Description of the Articles\n",
    "    # - Data Shape: Train: 120K & Test: 7600"
   ]
  },
  {
   "cell_type": "markdown",
   "metadata": {},
   "source": [
    "### Import Libraries"
   ]
  },
  {
   "cell_type": "code",
   "execution_count": 1,
   "metadata": {},
   "outputs": [],
   "source": [
    "import os\n",
    "import warnings\n",
    "\n",
    "from src.utils import get_project_config\n",
    "from src.utils import missing_values\n",
    "import pandas as pd\n",
    "from dotenv import load_dotenv"
   ]
  },
  {
   "cell_type": "code",
   "execution_count": 2,
   "metadata": {},
   "outputs": [],
   "source": [
    "import time\n",
    "import matplotlib.pyplot as plt\n",
    "import numpy as np\n",
    "from sklearn.manifold import TSNE\n",
    "\n",
    "import tensorflow as tf\n",
    "from tensorflow.keras.datasets import cifar10\n",
    "from tensorflow.keras.utils import to_categorical\n",
    "from tensorflow.keras.models import Sequential, clone_model\n",
    "from tensorflow.keras.layers import Conv2D, MaxPooling2D, Flatten, Dense, Dropout\n",
    "from tensorflow.keras.optimizers import SGD, Adam"
   ]
  },
  {
   "cell_type": "code",
   "execution_count": 3,
   "metadata": {},
   "outputs": [],
   "source": [
    "pd.set_option('display.max_columns', None)\n",
    "pd.set_option('max_colwidth', None)\n",
    "\n",
    "warnings.filterwarnings('ignore')"
   ]
  },
  {
   "cell_type": "markdown",
   "metadata": {},
   "source": [
    "#### Set Path and Constant Values"
   ]
  },
  {
   "cell_type": "code",
   "execution_count": 4,
   "metadata": {},
   "outputs": [],
   "source": [
    "# Set Constants\n",
    "ROOT_PATH = os.getcwd()\n",
    "CFG_PATH = os.path.join(ROOT_PATH, 'cfg')\n",
    "DATA_PATH = os.path.join(ROOT_PATH, 'data')"
   ]
  },
  {
   "cell_type": "code",
   "execution_count": 5,
   "metadata": {},
   "outputs": [],
   "source": [
    "# import tensorflow as tf\n",
    "# tf.config.list_physical_devices('GPU')"
   ]
  },
  {
   "cell_type": "code",
   "execution_count": 6,
   "metadata": {},
   "outputs": [],
   "source": [
    "# from tensorflow.python.client import device_lib\n",
    "# print(device_lib.list_local_devices())"
   ]
  },
  {
   "cell_type": "markdown",
   "metadata": {},
   "source": [
    "### Import Dataset"
   ]
  },
  {
   "cell_type": "code",
   "execution_count": 7,
   "metadata": {},
   "outputs": [
    {
     "data": {
      "text/html": [
       "<div>\n",
       "<style scoped>\n",
       "    .dataframe tbody tr th:only-of-type {\n",
       "        vertical-align: middle;\n",
       "    }\n",
       "\n",
       "    .dataframe tbody tr th {\n",
       "        vertical-align: top;\n",
       "    }\n",
       "\n",
       "    .dataframe thead th {\n",
       "        text-align: right;\n",
       "    }\n",
       "</style>\n",
       "<table border=\"1\" class=\"dataframe\">\n",
       "  <thead>\n",
       "    <tr style=\"text-align: right;\">\n",
       "      <th></th>\n",
       "      <th>Class Index</th>\n",
       "      <th>Title</th>\n",
       "      <th>Description</th>\n",
       "    </tr>\n",
       "  </thead>\n",
       "  <tbody>\n",
       "    <tr>\n",
       "      <th>0</th>\n",
       "      <td>3</td>\n",
       "      <td>Wall St. Bears Claw Back Into the Black (Reuters)</td>\n",
       "      <td>Reuters - Short-sellers, Wall Street's dwindling\\band of ultra-cynics, are seeing green again.</td>\n",
       "    </tr>\n",
       "    <tr>\n",
       "      <th>1</th>\n",
       "      <td>3</td>\n",
       "      <td>Carlyle Looks Toward Commercial Aerospace (Reuters)</td>\n",
       "      <td>Reuters - Private investment firm Carlyle Group,\\which has a reputation for making well-timed and occasionally\\controversial plays in the defense industry, has quietly placed\\its bets on another part of the market.</td>\n",
       "    </tr>\n",
       "    <tr>\n",
       "      <th>2</th>\n",
       "      <td>3</td>\n",
       "      <td>Oil and Economy Cloud Stocks' Outlook (Reuters)</td>\n",
       "      <td>Reuters - Soaring crude prices plus worries\\about the economy and the outlook for earnings are expected to\\hang over the stock market next week during the depth of the\\summer doldrums.</td>\n",
       "    </tr>\n",
       "    <tr>\n",
       "      <th>3</th>\n",
       "      <td>3</td>\n",
       "      <td>Iraq Halts Oil Exports from Main Southern Pipeline (Reuters)</td>\n",
       "      <td>Reuters - Authorities have halted oil export\\flows from the main pipeline in southern Iraq after\\intelligence showed a rebel militia could strike\\infrastructure, an oil official said on Saturday.</td>\n",
       "    </tr>\n",
       "    <tr>\n",
       "      <th>4</th>\n",
       "      <td>3</td>\n",
       "      <td>Oil prices soar to all-time record, posing new menace to US economy (AFP)</td>\n",
       "      <td>AFP - Tearaway world oil prices, toppling records and straining wallets, present a new economic menace barely three months before the US presidential elections.</td>\n",
       "    </tr>\n",
       "  </tbody>\n",
       "</table>\n",
       "</div>"
      ],
      "text/plain": [
       "   Class Index  \\\n",
       "0            3   \n",
       "1            3   \n",
       "2            3   \n",
       "3            3   \n",
       "4            3   \n",
       "\n",
       "                                                                       Title  \\\n",
       "0                          Wall St. Bears Claw Back Into the Black (Reuters)   \n",
       "1                        Carlyle Looks Toward Commercial Aerospace (Reuters)   \n",
       "2                            Oil and Economy Cloud Stocks' Outlook (Reuters)   \n",
       "3               Iraq Halts Oil Exports from Main Southern Pipeline (Reuters)   \n",
       "4  Oil prices soar to all-time record, posing new menace to US economy (AFP)   \n",
       "\n",
       "                                                                                                                                                                                                              Description  \n",
       "0                                                                                                                          Reuters - Short-sellers, Wall Street's dwindling\\band of ultra-cynics, are seeing green again.  \n",
       "1  Reuters - Private investment firm Carlyle Group,\\which has a reputation for making well-timed and occasionally\\controversial plays in the defense industry, has quietly placed\\its bets on another part of the market.  \n",
       "2                                Reuters - Soaring crude prices plus worries\\about the economy and the outlook for earnings are expected to\\hang over the stock market next week during the depth of the\\summer doldrums.  \n",
       "3                     Reuters - Authorities have halted oil export\\flows from the main pipeline in southern Iraq after\\intelligence showed a rebel militia could strike\\infrastructure, an oil official said on Saturday.  \n",
       "4                                                        AFP - Tearaway world oil prices, toppling records and straining wallets, present a new economic menace barely three months before the US presidential elections.  "
      ]
     },
     "execution_count": 7,
     "metadata": {},
     "output_type": "execute_result"
    }
   ],
   "source": [
    "df_train_data = pd.read_csv(os.path.join(DATA_PATH, \"train.csv.zip\"), compression='zip')\n",
    "df_train_data.head()"
   ]
  },
  {
   "cell_type": "code",
   "execution_count": 8,
   "metadata": {
    "scrolled": true
   },
   "outputs": [
    {
     "data": {
      "text/html": [
       "<div>\n",
       "<style scoped>\n",
       "    .dataframe tbody tr th:only-of-type {\n",
       "        vertical-align: middle;\n",
       "    }\n",
       "\n",
       "    .dataframe tbody tr th {\n",
       "        vertical-align: top;\n",
       "    }\n",
       "\n",
       "    .dataframe thead th {\n",
       "        text-align: right;\n",
       "    }\n",
       "</style>\n",
       "<table border=\"1\" class=\"dataframe\">\n",
       "  <thead>\n",
       "    <tr style=\"text-align: right;\">\n",
       "      <th></th>\n",
       "      <th>Class Index</th>\n",
       "      <th>Title</th>\n",
       "      <th>Description</th>\n",
       "    </tr>\n",
       "  </thead>\n",
       "  <tbody>\n",
       "    <tr>\n",
       "      <th>0</th>\n",
       "      <td>3</td>\n",
       "      <td>Fears for T N pension after talks</td>\n",
       "      <td>Unions representing workers at Turner   Newall say they are 'disappointed' after talks with stricken parent firm Federal Mogul.</td>\n",
       "    </tr>\n",
       "    <tr>\n",
       "      <th>1</th>\n",
       "      <td>4</td>\n",
       "      <td>The Race is On: Second Private Team Sets Launch Date for Human Spaceflight (SPACE.com)</td>\n",
       "      <td>SPACE.com - TORONTO, Canada -- A second\\team of rocketeers competing for the  #36;10 million Ansari X Prize, a contest for\\privately funded suborbital space flight, has officially announced the first\\launch date for its manned rocket.</td>\n",
       "    </tr>\n",
       "    <tr>\n",
       "      <th>2</th>\n",
       "      <td>4</td>\n",
       "      <td>Ky. Company Wins Grant to Study Peptides (AP)</td>\n",
       "      <td>AP - A company founded by a chemistry researcher at the University of Louisville won a grant to develop a method of producing better peptides, which are short chains of amino acids, the building blocks of proteins.</td>\n",
       "    </tr>\n",
       "    <tr>\n",
       "      <th>3</th>\n",
       "      <td>4</td>\n",
       "      <td>Prediction Unit Helps Forecast Wildfires (AP)</td>\n",
       "      <td>AP - It's barely dawn when Mike Fitzpatrick starts his shift with a blur of colorful maps, figures and endless charts, but already he knows what the day will bring. Lightning will strike in places he expects. Winds will pick up, moist places will dry and flames will roar.</td>\n",
       "    </tr>\n",
       "    <tr>\n",
       "      <th>4</th>\n",
       "      <td>4</td>\n",
       "      <td>Calif. Aims to Limit Farm-Related Smog (AP)</td>\n",
       "      <td>AP - Southern California's smog-fighting agency went after emissions of the bovine variety Friday, adopting the nation's first rules to reduce air pollution from dairy cow manure.</td>\n",
       "    </tr>\n",
       "  </tbody>\n",
       "</table>\n",
       "</div>"
      ],
      "text/plain": [
       "   Class Index  \\\n",
       "0            3   \n",
       "1            4   \n",
       "2            4   \n",
       "3            4   \n",
       "4            4   \n",
       "\n",
       "                                                                                    Title  \\\n",
       "0                                                       Fears for T N pension after talks   \n",
       "1  The Race is On: Second Private Team Sets Launch Date for Human Spaceflight (SPACE.com)   \n",
       "2                                           Ky. Company Wins Grant to Study Peptides (AP)   \n",
       "3                                           Prediction Unit Helps Forecast Wildfires (AP)   \n",
       "4                                             Calif. Aims to Limit Farm-Related Smog (AP)   \n",
       "\n",
       "                                                                                                                                                                                                                                                                        Description  \n",
       "0                                                                                                                                                   Unions representing workers at Turner   Newall say they are 'disappointed' after talks with stricken parent firm Federal Mogul.  \n",
       "1                                        SPACE.com - TORONTO, Canada -- A second\\team of rocketeers competing for the  #36;10 million Ansari X Prize, a contest for\\privately funded suborbital space flight, has officially announced the first\\launch date for its manned rocket.  \n",
       "2                                                            AP - A company founded by a chemistry researcher at the University of Louisville won a grant to develop a method of producing better peptides, which are short chains of amino acids, the building blocks of proteins.  \n",
       "3  AP - It's barely dawn when Mike Fitzpatrick starts his shift with a blur of colorful maps, figures and endless charts, but already he knows what the day will bring. Lightning will strike in places he expects. Winds will pick up, moist places will dry and flames will roar.  \n",
       "4                                                                                               AP - Southern California's smog-fighting agency went after emissions of the bovine variety Friday, adopting the nation's first rules to reduce air pollution from dairy cow manure.  "
      ]
     },
     "execution_count": 8,
     "metadata": {},
     "output_type": "execute_result"
    }
   ],
   "source": [
    "df_test_data = pd.read_csv(os.path.join(DATA_PATH, \"test.csv.zip\"), compression='zip')\n",
    "df_test_data.head()"
   ]
  },
  {
   "cell_type": "code",
   "execution_count": 9,
   "metadata": {},
   "outputs": [],
   "source": [
    "df_train_data_orj = df_train_data.copy()\n",
    "df_test_data_orj = df_test_data.copy()"
   ]
  },
  {
   "cell_type": "markdown",
   "metadata": {},
   "source": [
    "### Columns Transformation"
   ]
  },
  {
   "cell_type": "code",
   "execution_count": 10,
   "metadata": {},
   "outputs": [],
   "source": [
    "df_data_list = [df_train_data, df_test_data]\n",
    "class_map = {1:'World', 2:'Sports', 3:'Business', 4:'Sci/Tech'}\n",
    "\n",
    "for df in df_data_list:\n",
    "    # print(\"DataFrame Name:\", df)\n",
    "    df.columns = df.columns.str.replace(' ', '', regex=False)\n",
    "    df['ClassName'] = df['ClassIndex'].map(class_map)"
   ]
  },
  {
   "cell_type": "code",
   "execution_count": 11,
   "metadata": {},
   "outputs": [],
   "source": [
    "df_train_data['Text'] = df_train_data['Title'] + ' ' + df_train_data['Description']\n",
    "df_test_data['Text'] = df_test_data['Title'] + ' ' + df_test_data['Description']"
   ]
  },
  {
   "cell_type": "code",
   "execution_count": 12,
   "metadata": {},
   "outputs": [
    {
     "data": {
      "text/html": [
       "<div>\n",
       "<style scoped>\n",
       "    .dataframe tbody tr th:only-of-type {\n",
       "        vertical-align: middle;\n",
       "    }\n",
       "\n",
       "    .dataframe tbody tr th {\n",
       "        vertical-align: top;\n",
       "    }\n",
       "\n",
       "    .dataframe thead th {\n",
       "        text-align: right;\n",
       "    }\n",
       "</style>\n",
       "<table border=\"1\" class=\"dataframe\">\n",
       "  <thead>\n",
       "    <tr style=\"text-align: right;\">\n",
       "      <th></th>\n",
       "      <th>ClassIndex</th>\n",
       "      <th>Title</th>\n",
       "      <th>Description</th>\n",
       "      <th>ClassName</th>\n",
       "      <th>Text</th>\n",
       "    </tr>\n",
       "  </thead>\n",
       "  <tbody>\n",
       "    <tr>\n",
       "      <th>0</th>\n",
       "      <td>3</td>\n",
       "      <td>Wall St. Bears Claw Back Into the Black (Reuters)</td>\n",
       "      <td>Reuters - Short-sellers, Wall Street's dwindling\\band of ultra-cynics, are seeing green again.</td>\n",
       "      <td>Business</td>\n",
       "      <td>Wall St. Bears Claw Back Into the Black (Reuters) Reuters - Short-sellers, Wall Street's dwindling\\band of ultra-cynics, are seeing green again.</td>\n",
       "    </tr>\n",
       "    <tr>\n",
       "      <th>1</th>\n",
       "      <td>3</td>\n",
       "      <td>Carlyle Looks Toward Commercial Aerospace (Reuters)</td>\n",
       "      <td>Reuters - Private investment firm Carlyle Group,\\which has a reputation for making well-timed and occasionally\\controversial plays in the defense industry, has quietly placed\\its bets on another part of the market.</td>\n",
       "      <td>Business</td>\n",
       "      <td>Carlyle Looks Toward Commercial Aerospace (Reuters) Reuters - Private investment firm Carlyle Group,\\which has a reputation for making well-timed and occasionally\\controversial plays in the defense industry, has quietly placed\\its bets on another part of the market.</td>\n",
       "    </tr>\n",
       "    <tr>\n",
       "      <th>2</th>\n",
       "      <td>3</td>\n",
       "      <td>Oil and Economy Cloud Stocks' Outlook (Reuters)</td>\n",
       "      <td>Reuters - Soaring crude prices plus worries\\about the economy and the outlook for earnings are expected to\\hang over the stock market next week during the depth of the\\summer doldrums.</td>\n",
       "      <td>Business</td>\n",
       "      <td>Oil and Economy Cloud Stocks' Outlook (Reuters) Reuters - Soaring crude prices plus worries\\about the economy and the outlook for earnings are expected to\\hang over the stock market next week during the depth of the\\summer doldrums.</td>\n",
       "    </tr>\n",
       "    <tr>\n",
       "      <th>3</th>\n",
       "      <td>3</td>\n",
       "      <td>Iraq Halts Oil Exports from Main Southern Pipeline (Reuters)</td>\n",
       "      <td>Reuters - Authorities have halted oil export\\flows from the main pipeline in southern Iraq after\\intelligence showed a rebel militia could strike\\infrastructure, an oil official said on Saturday.</td>\n",
       "      <td>Business</td>\n",
       "      <td>Iraq Halts Oil Exports from Main Southern Pipeline (Reuters) Reuters - Authorities have halted oil export\\flows from the main pipeline in southern Iraq after\\intelligence showed a rebel militia could strike\\infrastructure, an oil official said on Saturday.</td>\n",
       "    </tr>\n",
       "    <tr>\n",
       "      <th>4</th>\n",
       "      <td>3</td>\n",
       "      <td>Oil prices soar to all-time record, posing new menace to US economy (AFP)</td>\n",
       "      <td>AFP - Tearaway world oil prices, toppling records and straining wallets, present a new economic menace barely three months before the US presidential elections.</td>\n",
       "      <td>Business</td>\n",
       "      <td>Oil prices soar to all-time record, posing new menace to US economy (AFP) AFP - Tearaway world oil prices, toppling records and straining wallets, present a new economic menace barely three months before the US presidential elections.</td>\n",
       "    </tr>\n",
       "  </tbody>\n",
       "</table>\n",
       "</div>"
      ],
      "text/plain": [
       "   ClassIndex  \\\n",
       "0           3   \n",
       "1           3   \n",
       "2           3   \n",
       "3           3   \n",
       "4           3   \n",
       "\n",
       "                                                                       Title  \\\n",
       "0                          Wall St. Bears Claw Back Into the Black (Reuters)   \n",
       "1                        Carlyle Looks Toward Commercial Aerospace (Reuters)   \n",
       "2                            Oil and Economy Cloud Stocks' Outlook (Reuters)   \n",
       "3               Iraq Halts Oil Exports from Main Southern Pipeline (Reuters)   \n",
       "4  Oil prices soar to all-time record, posing new menace to US economy (AFP)   \n",
       "\n",
       "                                                                                                                                                                                                              Description  \\\n",
       "0                                                                                                                          Reuters - Short-sellers, Wall Street's dwindling\\band of ultra-cynics, are seeing green again.   \n",
       "1  Reuters - Private investment firm Carlyle Group,\\which has a reputation for making well-timed and occasionally\\controversial plays in the defense industry, has quietly placed\\its bets on another part of the market.   \n",
       "2                                Reuters - Soaring crude prices plus worries\\about the economy and the outlook for earnings are expected to\\hang over the stock market next week during the depth of the\\summer doldrums.   \n",
       "3                     Reuters - Authorities have halted oil export\\flows from the main pipeline in southern Iraq after\\intelligence showed a rebel militia could strike\\infrastructure, an oil official said on Saturday.   \n",
       "4                                                        AFP - Tearaway world oil prices, toppling records and straining wallets, present a new economic menace barely three months before the US presidential elections.   \n",
       "\n",
       "  ClassName  \\\n",
       "0  Business   \n",
       "1  Business   \n",
       "2  Business   \n",
       "3  Business   \n",
       "4  Business   \n",
       "\n",
       "                                                                                                                                                                                                                                                                         Text  \n",
       "0                                                                                                                            Wall St. Bears Claw Back Into the Black (Reuters) Reuters - Short-sellers, Wall Street's dwindling\\band of ultra-cynics, are seeing green again.  \n",
       "1  Carlyle Looks Toward Commercial Aerospace (Reuters) Reuters - Private investment firm Carlyle Group,\\which has a reputation for making well-timed and occasionally\\controversial plays in the defense industry, has quietly placed\\its bets on another part of the market.  \n",
       "2                                    Oil and Economy Cloud Stocks' Outlook (Reuters) Reuters - Soaring crude prices plus worries\\about the economy and the outlook for earnings are expected to\\hang over the stock market next week during the depth of the\\summer doldrums.  \n",
       "3            Iraq Halts Oil Exports from Main Southern Pipeline (Reuters) Reuters - Authorities have halted oil export\\flows from the main pipeline in southern Iraq after\\intelligence showed a rebel militia could strike\\infrastructure, an oil official said on Saturday.  \n",
       "4                                  Oil prices soar to all-time record, posing new menace to US economy (AFP) AFP - Tearaway world oil prices, toppling records and straining wallets, present a new economic menace barely three months before the US presidential elections.  "
      ]
     },
     "execution_count": 12,
     "metadata": {},
     "output_type": "execute_result"
    }
   ],
   "source": [
    "df_train_data.head()"
   ]
  },
  {
   "cell_type": "markdown",
   "metadata": {},
   "source": [
    "### Show Metadata, Shape, Statistics and Missing Table"
   ]
  },
  {
   "cell_type": "code",
   "execution_count": 13,
   "metadata": {},
   "outputs": [
    {
     "name": "stdout",
     "output_type": "stream",
     "text": [
      "<class 'pandas.core.frame.DataFrame'>\n",
      "RangeIndex: 120000 entries, 0 to 119999\n",
      "Data columns (total 5 columns):\n",
      " #   Column       Non-Null Count   Dtype \n",
      "---  ------       --------------   ----- \n",
      " 0   ClassIndex   120000 non-null  int64 \n",
      " 1   Title        120000 non-null  object\n",
      " 2   Description  120000 non-null  object\n",
      " 3   ClassName    120000 non-null  object\n",
      " 4   Text         120000 non-null  object\n",
      "dtypes: int64(1), object(4)\n",
      "memory usage: 4.6+ MB\n"
     ]
    }
   ],
   "source": [
    "df_train_data.info()"
   ]
  },
  {
   "cell_type": "code",
   "execution_count": 14,
   "metadata": {},
   "outputs": [
    {
     "name": "stdout",
     "output_type": "stream",
     "text": [
      "<class 'pandas.core.frame.DataFrame'>\n",
      "RangeIndex: 7600 entries, 0 to 7599\n",
      "Data columns (total 5 columns):\n",
      " #   Column       Non-Null Count  Dtype \n",
      "---  ------       --------------  ----- \n",
      " 0   ClassIndex   7600 non-null   int64 \n",
      " 1   Title        7600 non-null   object\n",
      " 2   Description  7600 non-null   object\n",
      " 3   ClassName    7600 non-null   object\n",
      " 4   Text         7600 non-null   object\n",
      "dtypes: int64(1), object(4)\n",
      "memory usage: 297.0+ KB\n"
     ]
    }
   ],
   "source": [
    "df_test_data.info()"
   ]
  },
  {
   "cell_type": "code",
   "execution_count": 15,
   "metadata": {},
   "outputs": [
    {
     "data": {
      "text/plain": [
       "((120000, 5), (7600, 5))"
      ]
     },
     "execution_count": 15,
     "metadata": {},
     "output_type": "execute_result"
    }
   ],
   "source": [
    "df_train_data.shape, df_test_data.shape"
   ]
  },
  {
   "cell_type": "code",
   "execution_count": 16,
   "metadata": {},
   "outputs": [
    {
     "data": {
      "text/plain": [
       "ClassIndex\n",
       "3    30000\n",
       "4    30000\n",
       "2    30000\n",
       "1    30000\n",
       "Name: count, dtype: int64"
      ]
     },
     "execution_count": 16,
     "metadata": {},
     "output_type": "execute_result"
    }
   ],
   "source": [
    "df_train_data['ClassIndex'].value_counts()"
   ]
  },
  {
   "cell_type": "code",
   "execution_count": 17,
   "metadata": {},
   "outputs": [
    {
     "data": {
      "text/plain": [
       "ClassIndex\n",
       "3    1900\n",
       "4    1900\n",
       "2    1900\n",
       "1    1900\n",
       "Name: count, dtype: int64"
      ]
     },
     "execution_count": 17,
     "metadata": {},
     "output_type": "execute_result"
    }
   ],
   "source": [
    "df_test_data['ClassIndex'].value_counts()"
   ]
  },
  {
   "cell_type": "code",
   "execution_count": 18,
   "metadata": {},
   "outputs": [
    {
     "data": {
      "text/html": [
       "<div>\n",
       "<style scoped>\n",
       "    .dataframe tbody tr th:only-of-type {\n",
       "        vertical-align: middle;\n",
       "    }\n",
       "\n",
       "    .dataframe tbody tr th {\n",
       "        vertical-align: top;\n",
       "    }\n",
       "\n",
       "    .dataframe thead th {\n",
       "        text-align: right;\n",
       "    }\n",
       "</style>\n",
       "<table border=\"1\" class=\"dataframe\">\n",
       "  <thead>\n",
       "    <tr style=\"text-align: right;\">\n",
       "      <th></th>\n",
       "      <th>Count</th>\n",
       "      <th>Percent</th>\n",
       "    </tr>\n",
       "    <tr>\n",
       "      <th>Columns</th>\n",
       "      <th></th>\n",
       "      <th></th>\n",
       "    </tr>\n",
       "  </thead>\n",
       "  <tbody>\n",
       "    <tr>\n",
       "      <th>ClassIndex</th>\n",
       "      <td>0</td>\n",
       "      <td>0.0</td>\n",
       "    </tr>\n",
       "    <tr>\n",
       "      <th>Title</th>\n",
       "      <td>0</td>\n",
       "      <td>0.0</td>\n",
       "    </tr>\n",
       "    <tr>\n",
       "      <th>Description</th>\n",
       "      <td>0</td>\n",
       "      <td>0.0</td>\n",
       "    </tr>\n",
       "    <tr>\n",
       "      <th>ClassName</th>\n",
       "      <td>0</td>\n",
       "      <td>0.0</td>\n",
       "    </tr>\n",
       "    <tr>\n",
       "      <th>Text</th>\n",
       "      <td>0</td>\n",
       "      <td>0.0</td>\n",
       "    </tr>\n",
       "  </tbody>\n",
       "</table>\n",
       "</div>"
      ],
      "text/plain": [
       "             Count  Percent\n",
       "Columns                    \n",
       "ClassIndex       0      0.0\n",
       "Title            0      0.0\n",
       "Description      0      0.0\n",
       "ClassName        0      0.0\n",
       "Text             0      0.0"
      ]
     },
     "execution_count": 18,
     "metadata": {},
     "output_type": "execute_result"
    }
   ],
   "source": [
    "missing_values(df=df_train_data, threshold=0, asc_sorting=False)"
   ]
  },
  {
   "cell_type": "code",
   "execution_count": 19,
   "metadata": {
    "scrolled": true
   },
   "outputs": [
    {
     "data": {
      "text/html": [
       "<div>\n",
       "<style scoped>\n",
       "    .dataframe tbody tr th:only-of-type {\n",
       "        vertical-align: middle;\n",
       "    }\n",
       "\n",
       "    .dataframe tbody tr th {\n",
       "        vertical-align: top;\n",
       "    }\n",
       "\n",
       "    .dataframe thead th {\n",
       "        text-align: right;\n",
       "    }\n",
       "</style>\n",
       "<table border=\"1\" class=\"dataframe\">\n",
       "  <thead>\n",
       "    <tr style=\"text-align: right;\">\n",
       "      <th></th>\n",
       "      <th>Count</th>\n",
       "      <th>Percent</th>\n",
       "    </tr>\n",
       "    <tr>\n",
       "      <th>Columns</th>\n",
       "      <th></th>\n",
       "      <th></th>\n",
       "    </tr>\n",
       "  </thead>\n",
       "  <tbody>\n",
       "    <tr>\n",
       "      <th>ClassIndex</th>\n",
       "      <td>0</td>\n",
       "      <td>0.0</td>\n",
       "    </tr>\n",
       "    <tr>\n",
       "      <th>Title</th>\n",
       "      <td>0</td>\n",
       "      <td>0.0</td>\n",
       "    </tr>\n",
       "    <tr>\n",
       "      <th>Description</th>\n",
       "      <td>0</td>\n",
       "      <td>0.0</td>\n",
       "    </tr>\n",
       "    <tr>\n",
       "      <th>ClassName</th>\n",
       "      <td>0</td>\n",
       "      <td>0.0</td>\n",
       "    </tr>\n",
       "    <tr>\n",
       "      <th>Text</th>\n",
       "      <td>0</td>\n",
       "      <td>0.0</td>\n",
       "    </tr>\n",
       "  </tbody>\n",
       "</table>\n",
       "</div>"
      ],
      "text/plain": [
       "             Count  Percent\n",
       "Columns                    \n",
       "ClassIndex       0      0.0\n",
       "Title            0      0.0\n",
       "Description      0      0.0\n",
       "ClassName        0      0.0\n",
       "Text             0      0.0"
      ]
     },
     "execution_count": 19,
     "metadata": {},
     "output_type": "execute_result"
    }
   ],
   "source": [
    "missing_values(df=df_test_data, threshold=0, asc_sorting=False)"
   ]
  },
  {
   "cell_type": "markdown",
   "metadata": {},
   "source": [
    "### Text Data Preprocessing"
   ]
  },
  {
   "cell_type": "markdown",
   "metadata": {},
   "source": [
    "#### Text Preprocess"
   ]
  },
  {
   "cell_type": "code",
   "execution_count": 21,
   "metadata": {},
   "outputs": [
    {
     "name": "stderr",
     "output_type": "stream",
     "text": [
      "[nltk_data] Downloading package stopwords to\n",
      "[nltk_data]     C:\\Users\\metin\\AppData\\Roaming\\nltk_data...\n",
      "[nltk_data]   Package stopwords is already up-to-date!\n",
      "[nltk_data] Downloading package wordnet to\n",
      "[nltk_data]     C:\\Users\\metin\\AppData\\Roaming\\nltk_data...\n",
      "[nltk_data]   Package wordnet is already up-to-date!\n"
     ]
    }
   ],
   "source": [
    "import re\n",
    "import nltk\n",
    "from nltk.corpus import stopwords\n",
    "from nltk.stem import WordNetLemmatizer, PorterStemmer\n",
    "\n",
    "# NLTK kaynaklarını indir\n",
    "nltk.download('stopwords')\n",
    "nltk.download('wordnet')\n",
    "\n",
    "# HTML etiketlerini ve URL'leri temizleme fonksiyonu\n",
    "def remove_html_urls(text):\n",
    "    \"\"\"HTML etiketlerini ve URL'leri kaldırır.\"\"\"\n",
    "    text = re.sub(r'<.*?>', '', text)  # HTML etiketlerini temizleme\n",
    "    text = re.sub(r'http\\S+|www\\S+', '', text)  # URL'leri temizleme\n",
    "    return text\n",
    "\n",
    "# Ekstra boşlukları temizleme\n",
    "def remove_extra_whitespace(text):\n",
    "    \"\"\"Metindeki gereksiz boşlukları kaldırır.\"\"\"\n",
    "    text = re.sub(r'\\s+', ' ', text)  # Birden fazla boşluğu tek bir boşluğa dönüştürür\n",
    "    return text.strip()  # Başlangıç ve sondaki boşlukları siler\n",
    "\n",
    "# Expand correction (yaygın kısaltmaların düzeltilmesi)\n",
    "# def expand_contractions(text):\n",
    "#     \"\"\"Metindeki yaygın kısaltmaları düzeltir.\"\"\"\n",
    "#     contractions = {\n",
    "#         \"can't\": \"cannot\",\n",
    "#         \"won't\": \"will not\",\n",
    "#         \"don't\": \"do not\",\n",
    "#         \"I'm\": \"I am\",\n",
    "#         \"he's\": \"he is\",\n",
    "#         \"she's\": \"she is\",\n",
    "#         \"it's\": \"it is\",\n",
    "#         \"we're\": \"we are\",\n",
    "#         \"they're\": \"they are\",\n",
    "#         # Eklemek istenilen diğer kısaltmalar\n",
    "#     }\n",
    "#     for contraction, expanded in contractions.items():\n",
    "#         text = text.replace(contraction, expanded)\n",
    "#     return text\n",
    "# Expand correction (yaygın kısaltmaların düzeltilmesi)\n",
    "def expand_contractions(text):\n",
    "    \"\"\"Yaygın İngilizce kısaltmaları açar.\"\"\"\n",
    "    contractions = {\n",
    "        \"i'm\": \"i am\", \"don't\": \"do not\", \"can't\": \"cannot\", \"won't\": \"will not\",\n",
    "        \"it's\": \"it is\", \"he's\": \"he is\", \"she's\": \"she is\", \"they're\": \"they are\",\n",
    "        \"we're\": \"we are\", \"you've\": \"you have\", \"i've\": \"i have\", \"that's\": \"that is\",\n",
    "        \"there's\": \"there is\", \"couldn't\": \"could not\", \"shouldn't\": \"should not\"\n",
    "        # Burada gerekli kısaltmaları ekleyebilirsin\n",
    "    }\n",
    "    for contraction, expansion in contractions.items():\n",
    "        text = text.replace(contraction, expansion)\n",
    "    return text\n",
    "\n",
    "# Preprocessing fonksiyonu\n",
    "def preprocess_text(df:pd.DataFrame, column_name:str, lemmatize:bool=True, use_stemming:bool=False):\n",
    "    # 1. Küçük harfe dönüştürme\n",
    "    df[column_name] = df[column_name].str.lower()\n",
    "    \n",
    "    # 2. HTML etiketlerini ve URL'leri temizleme\n",
    "    df[column_name] = df[column_name].apply(remove_html_urls)\n",
    "    \n",
    "    # 3. Ekstra boşlukları kaldırma\n",
    "    df[column_name] = df[column_name].apply(remove_extra_whitespace)\n",
    "    \n",
    "    # 4. Kısaltmaları düzeltme\n",
    "    df[column_name] = df[column_name].apply(expand_contractions)\n",
    "    \n",
    "    # 5. Özel karakterlerin ve sayıların temizlenmesi\n",
    "    df[column_name] = df[column_name].str.replace(r'[^a-zA-Z\\s]', '', regex=True)\n",
    "    \n",
    "    # 6. Stop words kaldırma\n",
    "    stop_words = set(stopwords.words('english'))\n",
    "    df[column_name] = df[column_name].apply(lambda x: ' '.join([word for word in x.split() if word not in stop_words]))\n",
    "    \n",
    "    # 7. Lemmatization ya da Stemming\n",
    "    if lemmatize:\n",
    "        lemmatizer = WordNetLemmatizer()\n",
    "        df[column_name] = df[column_name].apply(lambda x: ' '.join([lemmatizer.lemmatize(word) for word in x.split()]))\n",
    "    elif use_stemming:\n",
    "        stemmer = PorterStemmer()\n",
    "        df[column_name] = df[column_name].apply(lambda x: ' '.join([stemmer.stem(word) for word in x.split()]))\n",
    "\n",
    "    return df"
   ]
  },
  {
   "cell_type": "code",
   "execution_count": null,
   "metadata": {},
   "outputs": [],
   "source": [
    "df_train_data = preprocess_text(df=df_train_data, column_name=\"Text\")\n",
    "df_test_data = preprocess_text(df=df_test_data, column_name=\"Text\")"
   ]
  },
  {
   "cell_type": "code",
   "execution_count": null,
   "metadata": {},
   "outputs": [],
   "source": [
    "df_train_data.head(3)"
   ]
  },
  {
   "cell_type": "code",
   "execution_count": null,
   "metadata": {
    "scrolled": true
   },
   "outputs": [],
   "source": [
    "df_test_data.head(3)"
   ]
  },
  {
   "cell_type": "markdown",
   "metadata": {},
   "source": [
    "#### Tokenization & Padding"
   ]
  },
  {
   "cell_type": "code",
   "execution_count": 21,
   "metadata": {},
   "outputs": [],
   "source": [
    "from tensorflow.keras.preprocessing.text import Tokenizer\n",
    "from tensorflow.keras.preprocessing.sequence import pad_sequences\n",
    "\n",
    "max_words = 10000\n",
    "# max_length = 200 \n",
    "\n",
    "# Prepare tokenizer for text processing\n",
    "tokenizer = Tokenizer(num_words=max_words)\n",
    "tokenizer.fit_on_texts(df_train_data['Description'])\n",
    "\n",
    "# Convert texts to sequences\n",
    "X_train = tokenizer.texts_to_sequences(df_train_data['Description'])\n",
    "X_test = tokenizer.texts_to_sequences(df_test_data['Description'])\n",
    "\n",
    "# Pad sequences to ensure uniform length\n",
    "max_sequence_length = 100  # Adjust based on your dataset's text length\n",
    "\n",
    "X_train = pad_sequences(X_train, maxlen=max_sequence_length)\n",
    "X_test = pad_sequences(X_test, maxlen=max_sequence_length)"
   ]
  },
  {
   "cell_type": "code",
   "execution_count": 29,
   "metadata": {},
   "outputs": [
    {
     "data": {
      "text/plain": [
       "((100,), (100,), (100,))"
      ]
     },
     "execution_count": 29,
     "metadata": {},
     "output_type": "execute_result"
    }
   ],
   "source": [
    "X_train[0].shape, X_train[1].shape, X_train[2].shape"
   ]
  },
  {
   "cell_type": "code",
   "execution_count": 30,
   "metadata": {},
   "outputs": [
    {
     "data": {
      "text/plain": [
       "((100,), (100,), (100,))"
      ]
     },
     "execution_count": 30,
     "metadata": {},
     "output_type": "execute_result"
    }
   ],
   "source": [
    "X_test[0].shape, X_test[1].shape, X_test[2].shape"
   ]
  },
  {
   "cell_type": "code",
   "execution_count": 31,
   "metadata": {},
   "outputs": [],
   "source": [
    "# Sınıf etiketlerini one-hot encoding yapıyoruz\n",
    "y_train = to_categorical(df_train_data['ClassIndex'] - 1, num_classes=4)\n",
    "y_test = to_categorical(df_test_data['ClassIndex'] - 1, num_classes=4)"
   ]
  },
  {
   "cell_type": "markdown",
   "metadata": {},
   "source": [
    "### Model Architecture"
   ]
  },
  {
   "cell_type": "markdown",
   "metadata": {
    "id": "Rhp_cppgtMj9"
   },
   "source": [
    "CIFAR-10 veri kümesindeki 10 sınıfı sınıflandırmak için CNN mimarisi kullanılmıştır. CIFAR-10 veri kümesi, 32x32 çözünürlüğünde ve 3 kanallı (RGB) renklere sahip 10 sınıf içerir."
   ]
  },
  {
   "cell_type": "markdown",
   "metadata": {
    "id": "e-lfyiNztPZ9"
   },
   "source": [
    "CNN Mimarisi\n",
    "- 1.Katman: 32 filtre kullanarak 3x3 boyutunda bir kernel uygular. 'relu' aktivasyon fonksiyonu kullanılır.\n",
    "- 2.Katman: İlk katmanın çıkışını girdi olarak alır daha derin özellikler çıkarır.\n",
    "- MaxPooling: 2x2 havuzlama, boyut azaltma.\n",
    "- Dropout: Eğitim sırasında %25 oranında nöronları rastgele devre dışı bırakır (overfitting önleme).\n",
    "- 3.Katman: 64 filtre kullanarak daha fazla özellik çıkarır.\n",
    "- 4.Katman: Ardışık Conv2D katmanları ile özellik çıkarımı güçlendirilir.\n",
    "- MaxPooling: 2x2 havuzlama, boyut azaltma.\n",
    "- Dropout: Yine %25 oranında nöronları devre dışı bırakarak aşırı öğrenme ihtimalini azaltır.\n",
    "- Flatten: Çıkış verisini tek bir vektör haline getirir. Bu vektör, tam bağlantılı (Dense) katman için giriş olur.\n",
    "- Dense: 512 nöronlu fully connected katman.\n",
    "- Dropout: %50 oranında nöronları rastgele devre dışı bırakır. Modelin genelleme yeteneğini artırır.\n",
    "- Çıkış Katmanı: 10 sınıflı, 'softmax' ile her bir sınıfa ait olasılık tahmini."
   ]
  },
  {
   "cell_type": "code",
   "execution_count": 32,
   "metadata": {},
   "outputs": [],
   "source": [
    "from tensorflow.keras.models import Sequential\n",
    "from tensorflow.keras.utils import to_categorical\n",
    "from tensorflow.keras.layers import Dense, Dropout, Embedding, Flatten\n",
    "\n",
    "def create_model(input_dim=10000, output_dim=4, input_length=max_sequence_length):\n",
    "    model = Sequential([\n",
    "        Embedding(input_dim=input_dim, output_dim=128, input_length=input_length),\n",
    "        Flatten(),\n",
    "        Dense(128, activation='relu'),\n",
    "        Dropout(0.5),\n",
    "        Dense(output_dim, activation='softmax')\n",
    "    ])\n",
    "    # model.compile(optimizer=optimizer, loss='categorical_crossentropy', metrics=['accuracy'])\n",
    "    return model"
   ]
  },
  {
   "cell_type": "code",
   "execution_count": 43,
   "metadata": {
    "colab": {
     "base_uri": "https://localhost:8080/"
    },
    "executionInfo": {
     "elapsed": 3554,
     "status": "ok",
     "timestamp": 1731941719126,
     "user": {
      "displayName": "Ahmed Ugur",
      "userId": "07278114889288036484"
     },
     "user_tz": -180
    },
    "id": "A1HMbsmstqqm",
    "outputId": "a649b180-70fa-4ed6-9178-6e4a2d1aba0d"
   },
   "outputs": [],
   "source": [
    "# 5 farklı başlangıç noktası oluşturuyoruz\n",
    "\n",
    "initial_weights = []\n",
    "for _ in range(5):\n",
    "    model = create_model()\n",
    "    model.build(input_shape=(None, max_sequence_length))\n",
    "    initial_weights.append(model.get_weights())"
   ]
  },
  {
   "cell_type": "code",
   "execution_count": 48,
   "metadata": {},
   "outputs": [],
   "source": [
    "# initial_weights[0]\n",
    "# len(initial_weights)"
   ]
  },
  {
   "cell_type": "code",
   "execution_count": 49,
   "metadata": {
    "colab": {
     "base_uri": "https://localhost:8080/",
     "height": 534
    },
    "executionInfo": {
     "elapsed": 936,
     "status": "ok",
     "timestamp": 1731941721746,
     "user": {
      "displayName": "Ahmed Ugur",
      "userId": "07278114889288036484"
     },
     "user_tz": -180
    },
    "id": "sP8f2KLOtqdm",
    "outputId": "f6059567-b202-4486-ab34-a31a207c6fb4"
   },
   "outputs": [
    {
     "data": {
      "text/html": [
       "<pre style=\"white-space:pre;overflow-x:auto;line-height:normal;font-family:Menlo,'DejaVu Sans Mono',consolas,'Courier New',monospace\"><span style=\"font-weight: bold\">Model: \"sequential_16\"</span>\n",
       "</pre>\n"
      ],
      "text/plain": [
       "\u001b[1mModel: \"sequential_16\"\u001b[0m\n"
      ]
     },
     "metadata": {},
     "output_type": "display_data"
    },
    {
     "data": {
      "text/html": [
       "<pre style=\"white-space:pre;overflow-x:auto;line-height:normal;font-family:Menlo,'DejaVu Sans Mono',consolas,'Courier New',monospace\">┏━━━━━━━━━━━━━━━━━━━━━━━━━━━━━━━━━━━━━━┳━━━━━━━━━━━━━━━━━━━━━━━━━━━━━┳━━━━━━━━━━━━━━━━━┓\n",
       "┃<span style=\"font-weight: bold\"> Layer (type)                         </span>┃<span style=\"font-weight: bold\"> Output Shape                </span>┃<span style=\"font-weight: bold\">         Param # </span>┃\n",
       "┡━━━━━━━━━━━━━━━━━━━━━━━━━━━━━━━━━━━━━━╇━━━━━━━━━━━━━━━━━━━━━━━━━━━━━╇━━━━━━━━━━━━━━━━━┩\n",
       "│ embedding_16 (<span style=\"color: #0087ff; text-decoration-color: #0087ff\">Embedding</span>)             │ (<span style=\"color: #00d7ff; text-decoration-color: #00d7ff\">None</span>, <span style=\"color: #00af00; text-decoration-color: #00af00\">100</span>, <span style=\"color: #00af00; text-decoration-color: #00af00\">128</span>)            │       <span style=\"color: #00af00; text-decoration-color: #00af00\">1,280,000</span> │\n",
       "├──────────────────────────────────────┼─────────────────────────────┼─────────────────┤\n",
       "│ flatten_16 (<span style=\"color: #0087ff; text-decoration-color: #0087ff\">Flatten</span>)                 │ (<span style=\"color: #00d7ff; text-decoration-color: #00d7ff\">None</span>, <span style=\"color: #00af00; text-decoration-color: #00af00\">12800</span>)               │               <span style=\"color: #00af00; text-decoration-color: #00af00\">0</span> │\n",
       "├──────────────────────────────────────┼─────────────────────────────┼─────────────────┤\n",
       "│ dense_32 (<span style=\"color: #0087ff; text-decoration-color: #0087ff\">Dense</span>)                     │ (<span style=\"color: #00d7ff; text-decoration-color: #00d7ff\">None</span>, <span style=\"color: #00af00; text-decoration-color: #00af00\">128</span>)                 │       <span style=\"color: #00af00; text-decoration-color: #00af00\">1,638,528</span> │\n",
       "├──────────────────────────────────────┼─────────────────────────────┼─────────────────┤\n",
       "│ dropout_16 (<span style=\"color: #0087ff; text-decoration-color: #0087ff\">Dropout</span>)                 │ (<span style=\"color: #00d7ff; text-decoration-color: #00d7ff\">None</span>, <span style=\"color: #00af00; text-decoration-color: #00af00\">128</span>)                 │               <span style=\"color: #00af00; text-decoration-color: #00af00\">0</span> │\n",
       "├──────────────────────────────────────┼─────────────────────────────┼─────────────────┤\n",
       "│ dense_33 (<span style=\"color: #0087ff; text-decoration-color: #0087ff\">Dense</span>)                     │ (<span style=\"color: #00d7ff; text-decoration-color: #00d7ff\">None</span>, <span style=\"color: #00af00; text-decoration-color: #00af00\">4</span>)                   │             <span style=\"color: #00af00; text-decoration-color: #00af00\">516</span> │\n",
       "└──────────────────────────────────────┴─────────────────────────────┴─────────────────┘\n",
       "</pre>\n"
      ],
      "text/plain": [
       "┏━━━━━━━━━━━━━━━━━━━━━━━━━━━━━━━━━━━━━━┳━━━━━━━━━━━━━━━━━━━━━━━━━━━━━┳━━━━━━━━━━━━━━━━━┓\n",
       "┃\u001b[1m \u001b[0m\u001b[1mLayer (type)                        \u001b[0m\u001b[1m \u001b[0m┃\u001b[1m \u001b[0m\u001b[1mOutput Shape               \u001b[0m\u001b[1m \u001b[0m┃\u001b[1m \u001b[0m\u001b[1m        Param #\u001b[0m\u001b[1m \u001b[0m┃\n",
       "┡━━━━━━━━━━━━━━━━━━━━━━━━━━━━━━━━━━━━━━╇━━━━━━━━━━━━━━━━━━━━━━━━━━━━━╇━━━━━━━━━━━━━━━━━┩\n",
       "│ embedding_16 (\u001b[38;5;33mEmbedding\u001b[0m)             │ (\u001b[38;5;45mNone\u001b[0m, \u001b[38;5;34m100\u001b[0m, \u001b[38;5;34m128\u001b[0m)            │       \u001b[38;5;34m1,280,000\u001b[0m │\n",
       "├──────────────────────────────────────┼─────────────────────────────┼─────────────────┤\n",
       "│ flatten_16 (\u001b[38;5;33mFlatten\u001b[0m)                 │ (\u001b[38;5;45mNone\u001b[0m, \u001b[38;5;34m12800\u001b[0m)               │               \u001b[38;5;34m0\u001b[0m │\n",
       "├──────────────────────────────────────┼─────────────────────────────┼─────────────────┤\n",
       "│ dense_32 (\u001b[38;5;33mDense\u001b[0m)                     │ (\u001b[38;5;45mNone\u001b[0m, \u001b[38;5;34m128\u001b[0m)                 │       \u001b[38;5;34m1,638,528\u001b[0m │\n",
       "├──────────────────────────────────────┼─────────────────────────────┼─────────────────┤\n",
       "│ dropout_16 (\u001b[38;5;33mDropout\u001b[0m)                 │ (\u001b[38;5;45mNone\u001b[0m, \u001b[38;5;34m128\u001b[0m)                 │               \u001b[38;5;34m0\u001b[0m │\n",
       "├──────────────────────────────────────┼─────────────────────────────┼─────────────────┤\n",
       "│ dense_33 (\u001b[38;5;33mDense\u001b[0m)                     │ (\u001b[38;5;45mNone\u001b[0m, \u001b[38;5;34m4\u001b[0m)                   │             \u001b[38;5;34m516\u001b[0m │\n",
       "└──────────────────────────────────────┴─────────────────────────────┴─────────────────┘\n"
      ]
     },
     "metadata": {},
     "output_type": "display_data"
    },
    {
     "data": {
      "text/html": [
       "<pre style=\"white-space:pre;overflow-x:auto;line-height:normal;font-family:Menlo,'DejaVu Sans Mono',consolas,'Courier New',monospace\"><span style=\"font-weight: bold\"> Total params: </span><span style=\"color: #00af00; text-decoration-color: #00af00\">2,919,044</span> (11.14 MB)\n",
       "</pre>\n"
      ],
      "text/plain": [
       "\u001b[1m Total params: \u001b[0m\u001b[38;5;34m2,919,044\u001b[0m (11.14 MB)\n"
      ]
     },
     "metadata": {},
     "output_type": "display_data"
    },
    {
     "data": {
      "text/html": [
       "<pre style=\"white-space:pre;overflow-x:auto;line-height:normal;font-family:Menlo,'DejaVu Sans Mono',consolas,'Courier New',monospace\"><span style=\"font-weight: bold\"> Trainable params: </span><span style=\"color: #00af00; text-decoration-color: #00af00\">2,919,044</span> (11.14 MB)\n",
       "</pre>\n"
      ],
      "text/plain": [
       "\u001b[1m Trainable params: \u001b[0m\u001b[38;5;34m2,919,044\u001b[0m (11.14 MB)\n"
      ]
     },
     "metadata": {},
     "output_type": "display_data"
    },
    {
     "data": {
      "text/html": [
       "<pre style=\"white-space:pre;overflow-x:auto;line-height:normal;font-family:Menlo,'DejaVu Sans Mono',consolas,'Courier New',monospace\"><span style=\"font-weight: bold\"> Non-trainable params: </span><span style=\"color: #00af00; text-decoration-color: #00af00\">0</span> (0.00 B)\n",
       "</pre>\n"
      ],
      "text/plain": [
       "\u001b[1m Non-trainable params: \u001b[0m\u001b[38;5;34m0\u001b[0m (0.00 B)\n"
      ]
     },
     "metadata": {},
     "output_type": "display_data"
    }
   ],
   "source": [
    "model.build(input_shape=(None, max_sequence_length))\n",
    "model.summary()"
   ]
  },
  {
   "cell_type": "code",
   "execution_count": 50,
   "metadata": {
    "executionInfo": {
     "elapsed": 982,
     "status": "ok",
     "timestamp": 1731941726520,
     "user": {
      "displayName": "Ahmed Ugur",
      "userId": "07278114889288036484"
     },
     "user_tz": -180
    },
    "id": "bYF2-2_qtt2_"
   },
   "outputs": [],
   "source": [
    "# Optimizasyon algoritmaları ve parametreleri tanımlıyoruz\n",
    "optimizer_configs = {\n",
    "    'SGD': {'class': SGD, 'params': {'learning_rate': 0.01}},\n",
    "    'SGD_momentum': {'class': SGD, 'params': {'learning_rate': 0.01, 'momentum': 0.9}},\n",
    "    'Adam': {'class': Adam, 'params': {'learning_rate': 0.001}}\n",
    "}"
   ]
  },
  {
   "cell_type": "markdown",
   "metadata": {
    "id": "UupJ5DgBwgle"
   },
   "source": [
    "### Optimizations Algorithms"
   ]
  },
  {
   "cell_type": "code",
   "execution_count": 53,
   "metadata": {
    "colab": {
     "base_uri": "https://localhost:8080/"
    },
    "executionInfo": {
     "elapsed": 1376747,
     "status": "ok",
     "timestamp": 1731943106030,
     "user": {
      "displayName": "Ahmed Ugur",
      "userId": "07278114889288036484"
     },
     "user_tz": -180
    },
    "id": "R4u5PB_bONMD",
    "outputId": "0efb134d-a1eb-4a1b-881b-03ecc07486b4"
   },
   "outputs": [
    {
     "name": "stdout",
     "output_type": "stream",
     "text": [
      "\n",
      "Optimizasyon Algoritması: SGD\n",
      "\n",
      "Başlangıç Noktası: 1\n",
      "\n",
      "=== SGD | Başlangıç Noktası 1 | Epoch 1/10 ===\n",
      "\u001b[1m3750/3750\u001b[0m \u001b[32m━━━━━━━━━━━━━━━━━━━━\u001b[0m\u001b[37m\u001b[0m \u001b[1m24s\u001b[0m 6ms/step - accuracy: 0.2802 - loss: 1.3813 - val_accuracy: 0.3974 - val_loss: 1.3522\n",
      "\n",
      "=== SGD | Başlangıç Noktası 1 | Epoch 2/10 ===\n",
      "\u001b[1m3750/3750\u001b[0m \u001b[32m━━━━━━━━━━━━━━━━━━━━\u001b[0m\u001b[37m\u001b[0m \u001b[1m21s\u001b[0m 6ms/step - accuracy: 0.3872 - loss: 1.3253 - val_accuracy: 0.5825 - val_loss: 1.1070\n",
      "\n",
      "=== SGD | Başlangıç Noktası 1 | Epoch 3/10 ===\n",
      "\u001b[1m3750/3750\u001b[0m \u001b[32m━━━━━━━━━━━━━━━━━━━━\u001b[0m\u001b[37m\u001b[0m \u001b[1m23s\u001b[0m 6ms/step - accuracy: 0.5948 - loss: 1.0239 - val_accuracy: 0.7425 - val_loss: 0.7380\n",
      "\n",
      "=== SGD | Başlangıç Noktası 1 | Epoch 4/10 ===\n",
      "\u001b[1m3750/3750\u001b[0m \u001b[32m━━━━━━━━━━━━━━━━━━━━\u001b[0m\u001b[37m\u001b[0m \u001b[1m23s\u001b[0m 6ms/step - accuracy: 0.7614 - loss: 0.6797 - val_accuracy: 0.8237 - val_loss: 0.5190\n",
      "\n",
      "=== SGD | Başlangıç Noktası 1 | Epoch 5/10 ===\n",
      "\u001b[1m3750/3750\u001b[0m \u001b[32m━━━━━━━━━━━━━━━━━━━━\u001b[0m\u001b[37m\u001b[0m \u001b[1m26s\u001b[0m 7ms/step - accuracy: 0.8290 - loss: 0.5007 - val_accuracy: 0.8516 - val_loss: 0.4371\n",
      "\n",
      "=== SGD | Başlangıç Noktası 1 | Epoch 6/10 ===\n",
      "\u001b[1m3750/3750\u001b[0m \u001b[32m━━━━━━━━━━━━━━━━━━━━\u001b[0m\u001b[37m\u001b[0m \u001b[1m24s\u001b[0m 6ms/step - accuracy: 0.8562 - loss: 0.4267 - val_accuracy: 0.8597 - val_loss: 0.4077\n",
      "\n",
      "=== SGD | Başlangıç Noktası 1 | Epoch 7/10 ===\n",
      "\u001b[1m3750/3750\u001b[0m \u001b[32m━━━━━━━━━━━━━━━━━━━━\u001b[0m\u001b[37m\u001b[0m \u001b[1m25s\u001b[0m 7ms/step - accuracy: 0.8740 - loss: 0.3851 - val_accuracy: 0.8730 - val_loss: 0.3737\n",
      "\n",
      "=== SGD | Başlangıç Noktası 1 | Epoch 8/10 ===\n",
      "\u001b[1m3750/3750\u001b[0m \u001b[32m━━━━━━━━━━━━━━━━━━━━\u001b[0m\u001b[37m\u001b[0m \u001b[1m25s\u001b[0m 7ms/step - accuracy: 0.8840 - loss: 0.3553 - val_accuracy: 0.8792 - val_loss: 0.3559\n",
      "\n",
      "=== SGD | Başlangıç Noktası 1 | Epoch 9/10 ===\n",
      "\u001b[1m3750/3750\u001b[0m \u001b[32m━━━━━━━━━━━━━━━━━━━━\u001b[0m\u001b[37m\u001b[0m \u001b[1m26s\u001b[0m 7ms/step - accuracy: 0.8912 - loss: 0.3318 - val_accuracy: 0.8808 - val_loss: 0.3463\n",
      "\n",
      "=== SGD | Başlangıç Noktası 1 | Epoch 10/10 ===\n",
      "\u001b[1m3750/3750\u001b[0m \u001b[32m━━━━━━━━━━━━━━━━━━━━\u001b[0m\u001b[37m\u001b[0m \u001b[1m26s\u001b[0m 7ms/step - accuracy: 0.8983 - loss: 0.3131 - val_accuracy: 0.8825 - val_loss: 0.3422\n",
      "\n",
      "Başlangıç Noktası: 2\n",
      "\n",
      "=== SGD | Başlangıç Noktası 2 | Epoch 1/10 ===\n",
      "\u001b[1m3750/3750\u001b[0m \u001b[32m━━━━━━━━━━━━━━━━━━━━\u001b[0m\u001b[37m\u001b[0m \u001b[1m26s\u001b[0m 7ms/step - accuracy: 0.2831 - loss: 1.3803 - val_accuracy: 0.3988 - val_loss: 1.3450\n",
      "\n",
      "=== SGD | Başlangıç Noktası 2 | Epoch 2/10 ===\n",
      "\u001b[1m3750/3750\u001b[0m \u001b[32m━━━━━━━━━━━━━━━━━━━━\u001b[0m\u001b[37m\u001b[0m \u001b[1m25s\u001b[0m 7ms/step - accuracy: 0.4019 - loss: 1.3081 - val_accuracy: 0.5933 - val_loss: 1.0664\n",
      "\n",
      "=== SGD | Başlangıç Noktası 2 | Epoch 3/10 ===\n",
      "\u001b[1m3750/3750\u001b[0m \u001b[32m━━━━━━━━━━━━━━━━━━━━\u001b[0m\u001b[37m\u001b[0m \u001b[1m25s\u001b[0m 7ms/step - accuracy: 0.6091 - loss: 0.9877 - val_accuracy: 0.7621 - val_loss: 0.7008\n",
      "\n",
      "=== SGD | Başlangıç Noktası 2 | Epoch 4/10 ===\n",
      "\u001b[1m3750/3750\u001b[0m \u001b[32m━━━━━━━━━━━━━━━━━━━━\u001b[0m\u001b[37m\u001b[0m \u001b[1m26s\u001b[0m 7ms/step - accuracy: 0.7632 - loss: 0.6618 - val_accuracy: 0.8259 - val_loss: 0.5157\n",
      "\n",
      "=== SGD | Başlangıç Noktası 2 | Epoch 5/10 ===\n",
      "\u001b[1m3750/3750\u001b[0m \u001b[32m━━━━━━━━━━━━━━━━━━━━\u001b[0m\u001b[37m\u001b[0m \u001b[1m26s\u001b[0m 7ms/step - accuracy: 0.8355 - loss: 0.4904 - val_accuracy: 0.8597 - val_loss: 0.4209\n",
      "\n",
      "=== SGD | Başlangıç Noktası 2 | Epoch 6/10 ===\n",
      "\u001b[1m3750/3750\u001b[0m \u001b[32m━━━━━━━━━━━━━━━━━━━━\u001b[0m\u001b[37m\u001b[0m \u001b[1m25s\u001b[0m 7ms/step - accuracy: 0.8608 - loss: 0.4161 - val_accuracy: 0.8655 - val_loss: 0.3943\n",
      "\n",
      "=== SGD | Başlangıç Noktası 2 | Epoch 7/10 ===\n",
      "\u001b[1m3750/3750\u001b[0m \u001b[32m━━━━━━━━━━━━━━━━━━━━\u001b[0m\u001b[37m\u001b[0m \u001b[1m25s\u001b[0m 7ms/step - accuracy: 0.8769 - loss: 0.3744 - val_accuracy: 0.8729 - val_loss: 0.3728\n",
      "\n",
      "=== SGD | Başlangıç Noktası 2 | Epoch 8/10 ===\n",
      "\u001b[1m3750/3750\u001b[0m \u001b[32m━━━━━━━━━━━━━━━━━━━━\u001b[0m\u001b[37m\u001b[0m \u001b[1m26s\u001b[0m 7ms/step - accuracy: 0.8856 - loss: 0.3486 - val_accuracy: 0.8799 - val_loss: 0.3533\n",
      "\n",
      "=== SGD | Başlangıç Noktası 2 | Epoch 9/10 ===\n",
      "\u001b[1m3750/3750\u001b[0m \u001b[32m━━━━━━━━━━━━━━━━━━━━\u001b[0m\u001b[37m\u001b[0m \u001b[1m30s\u001b[0m 8ms/step - accuracy: 0.8923 - loss: 0.3278 - val_accuracy: 0.8866 - val_loss: 0.3401\n",
      "\n",
      "=== SGD | Başlangıç Noktası 2 | Epoch 10/10 ===\n",
      "\u001b[1m3750/3750\u001b[0m \u001b[32m━━━━━━━━━━━━━━━━━━━━\u001b[0m\u001b[37m\u001b[0m \u001b[1m28s\u001b[0m 7ms/step - accuracy: 0.8975 - loss: 0.3103 - val_accuracy: 0.8889 - val_loss: 0.3319\n",
      "\n",
      "Başlangıç Noktası: 3\n",
      "\n",
      "=== SGD | Başlangıç Noktası 3 | Epoch 1/10 ===\n",
      "\u001b[1m3750/3750\u001b[0m \u001b[32m━━━━━━━━━━━━━━━━━━━━\u001b[0m\u001b[37m\u001b[0m \u001b[1m26s\u001b[0m 7ms/step - accuracy: 0.2805 - loss: 1.3814 - val_accuracy: 0.3771 - val_loss: 1.3514\n",
      "\n",
      "=== SGD | Başlangıç Noktası 3 | Epoch 2/10 ===\n",
      "\u001b[1m3750/3750\u001b[0m \u001b[32m━━━━━━━━━━━━━━━━━━━━\u001b[0m\u001b[37m\u001b[0m \u001b[1m25s\u001b[0m 7ms/step - accuracy: 0.3876 - loss: 1.3221 - val_accuracy: 0.5655 - val_loss: 1.0998\n",
      "\n",
      "=== SGD | Başlangıç Noktası 3 | Epoch 3/10 ===\n",
      "\u001b[1m3750/3750\u001b[0m \u001b[32m━━━━━━━━━━━━━━━━━━━━\u001b[0m\u001b[37m\u001b[0m \u001b[1m26s\u001b[0m 7ms/step - accuracy: 0.6015 - loss: 1.0101 - val_accuracy: 0.7632 - val_loss: 0.7027\n",
      "\n",
      "=== SGD | Başlangıç Noktası 3 | Epoch 4/10 ===\n",
      "\u001b[1m3750/3750\u001b[0m \u001b[32m━━━━━━━━━━━━━━━━━━━━\u001b[0m\u001b[37m\u001b[0m \u001b[1m27s\u001b[0m 7ms/step - accuracy: 0.7633 - loss: 0.6645 - val_accuracy: 0.8289 - val_loss: 0.5067\n",
      "\n",
      "=== SGD | Başlangıç Noktası 3 | Epoch 5/10 ===\n",
      "\u001b[1m3750/3750\u001b[0m \u001b[32m━━━━━━━━━━━━━━━━━━━━\u001b[0m\u001b[37m\u001b[0m \u001b[1m28s\u001b[0m 7ms/step - accuracy: 0.8270 - loss: 0.5017 - val_accuracy: 0.8429 - val_loss: 0.4504\n",
      "\n",
      "=== SGD | Başlangıç Noktası 3 | Epoch 6/10 ===\n",
      "\u001b[1m3750/3750\u001b[0m \u001b[32m━━━━━━━━━━━━━━━━━━━━\u001b[0m\u001b[37m\u001b[0m \u001b[1m28s\u001b[0m 7ms/step - accuracy: 0.8549 - loss: 0.4300 - val_accuracy: 0.8626 - val_loss: 0.4007\n",
      "\n",
      "=== SGD | Başlangıç Noktası 3 | Epoch 7/10 ===\n",
      "\u001b[1m3750/3750\u001b[0m \u001b[32m━━━━━━━━━━━━━━━━━━━━\u001b[0m\u001b[37m\u001b[0m \u001b[1m28s\u001b[0m 8ms/step - accuracy: 0.8709 - loss: 0.3849 - val_accuracy: 0.8734 - val_loss: 0.3725\n",
      "\n",
      "=== SGD | Başlangıç Noktası 3 | Epoch 8/10 ===\n",
      "\u001b[1m3750/3750\u001b[0m \u001b[32m━━━━━━━━━━━━━━━━━━━━\u001b[0m\u001b[37m\u001b[0m \u001b[1m26s\u001b[0m 7ms/step - accuracy: 0.8841 - loss: 0.3552 - val_accuracy: 0.8783 - val_loss: 0.3608\n",
      "\n",
      "=== SGD | Başlangıç Noktası 3 | Epoch 9/10 ===\n",
      "\u001b[1m3750/3750\u001b[0m \u001b[32m━━━━━━━━━━━━━━━━━━━━\u001b[0m\u001b[37m\u001b[0m \u001b[1m27s\u001b[0m 7ms/step - accuracy: 0.8903 - loss: 0.3321 - val_accuracy: 0.8839 - val_loss: 0.3475\n",
      "\n",
      "=== SGD | Başlangıç Noktası 3 | Epoch 10/10 ===\n",
      "\u001b[1m3750/3750\u001b[0m \u001b[32m━━━━━━━━━━━━━━━━━━━━\u001b[0m\u001b[37m\u001b[0m \u001b[1m28s\u001b[0m 7ms/step - accuracy: 0.8971 - loss: 0.3163 - val_accuracy: 0.8801 - val_loss: 0.3427\n",
      "\n",
      "Başlangıç Noktası: 4\n",
      "\n",
      "=== SGD | Başlangıç Noktası 4 | Epoch 1/10 ===\n",
      "\u001b[1m3750/3750\u001b[0m \u001b[32m━━━━━━━━━━━━━━━━━━━━\u001b[0m\u001b[37m\u001b[0m \u001b[1m28s\u001b[0m 7ms/step - accuracy: 0.2795 - loss: 1.3805 - val_accuracy: 0.3955 - val_loss: 1.3461\n",
      "\n",
      "=== SGD | Başlangıç Noktası 4 | Epoch 2/10 ===\n",
      "\u001b[1m3750/3750\u001b[0m \u001b[32m━━━━━━━━━━━━━━━━━━━━\u001b[0m\u001b[37m\u001b[0m \u001b[1m26s\u001b[0m 7ms/step - accuracy: 0.4064 - loss: 1.3116 - val_accuracy: 0.6026 - val_loss: 1.0598\n",
      "\n",
      "=== SGD | Başlangıç Noktası 4 | Epoch 3/10 ===\n",
      "\u001b[1m3750/3750\u001b[0m \u001b[32m━━━━━━━━━━━━━━━━━━━━\u001b[0m\u001b[37m\u001b[0m \u001b[1m27s\u001b[0m 7ms/step - accuracy: 0.6303 - loss: 0.9682 - val_accuracy: 0.7739 - val_loss: 0.6689\n",
      "\n",
      "=== SGD | Başlangıç Noktası 4 | Epoch 4/10 ===\n",
      "\u001b[1m3750/3750\u001b[0m \u001b[32m━━━━━━━━━━━━━━━━━━━━\u001b[0m\u001b[37m\u001b[0m \u001b[1m28s\u001b[0m 8ms/step - accuracy: 0.7785 - loss: 0.6331 - val_accuracy: 0.8209 - val_loss: 0.5105\n",
      "\n",
      "=== SGD | Başlangıç Noktası 4 | Epoch 5/10 ===\n",
      "\u001b[1m3750/3750\u001b[0m \u001b[32m━━━━━━━━━━━━━━━━━━━━\u001b[0m\u001b[37m\u001b[0m \u001b[1m27s\u001b[0m 7ms/step - accuracy: 0.8363 - loss: 0.4822 - val_accuracy: 0.8551 - val_loss: 0.4233\n",
      "\n",
      "=== SGD | Başlangıç Noktası 4 | Epoch 6/10 ===\n",
      "\u001b[1m3750/3750\u001b[0m \u001b[32m━━━━━━━━━━━━━━━━━━━━\u001b[0m\u001b[37m\u001b[0m \u001b[1m26s\u001b[0m 7ms/step - accuracy: 0.8620 - loss: 0.4132 - val_accuracy: 0.8701 - val_loss: 0.3880\n",
      "\n",
      "=== SGD | Başlangıç Noktası 4 | Epoch 7/10 ===\n",
      "\u001b[1m3750/3750\u001b[0m \u001b[32m━━━━━━━━━━━━━━━━━━━━\u001b[0m\u001b[37m\u001b[0m \u001b[1m27s\u001b[0m 7ms/step - accuracy: 0.8765 - loss: 0.3751 - val_accuracy: 0.8745 - val_loss: 0.3683\n",
      "\n",
      "=== SGD | Başlangıç Noktası 4 | Epoch 8/10 ===\n",
      "\u001b[1m3750/3750\u001b[0m \u001b[32m━━━━━━━━━━━━━━━━━━━━\u001b[0m\u001b[37m\u001b[0m \u001b[1m28s\u001b[0m 7ms/step - accuracy: 0.8860 - loss: 0.3467 - val_accuracy: 0.8799 - val_loss: 0.3533\n",
      "\n",
      "=== SGD | Başlangıç Noktası 4 | Epoch 9/10 ===\n",
      "\u001b[1m3750/3750\u001b[0m \u001b[32m━━━━━━━━━━━━━━━━━━━━\u001b[0m\u001b[37m\u001b[0m \u001b[1m28s\u001b[0m 7ms/step - accuracy: 0.8927 - loss: 0.3256 - val_accuracy: 0.8828 - val_loss: 0.3427\n",
      "\n",
      "=== SGD | Başlangıç Noktası 4 | Epoch 10/10 ===\n",
      "\u001b[1m3750/3750\u001b[0m \u001b[32m━━━━━━━━━━━━━━━━━━━━\u001b[0m\u001b[37m\u001b[0m \u001b[1m27s\u001b[0m 7ms/step - accuracy: 0.8978 - loss: 0.3148 - val_accuracy: 0.8857 - val_loss: 0.3377\n",
      "\n",
      "Başlangıç Noktası: 5\n",
      "\n",
      "=== SGD | Başlangıç Noktası 5 | Epoch 1/10 ===\n",
      "\u001b[1m3750/3750\u001b[0m \u001b[32m━━━━━━━━━━━━━━━━━━━━\u001b[0m\u001b[37m\u001b[0m \u001b[1m27s\u001b[0m 7ms/step - accuracy: 0.2796 - loss: 1.3812 - val_accuracy: 0.3721 - val_loss: 1.3551\n",
      "\n",
      "=== SGD | Başlangıç Noktası 5 | Epoch 2/10 ===\n",
      "\u001b[1m3750/3750\u001b[0m \u001b[32m━━━━━━━━━━━━━━━━━━━━\u001b[0m\u001b[37m\u001b[0m \u001b[1m28s\u001b[0m 7ms/step - accuracy: 0.3840 - loss: 1.3322 - val_accuracy: 0.5554 - val_loss: 1.1362\n",
      "\n",
      "=== SGD | Başlangıç Noktası 5 | Epoch 3/10 ===\n",
      "\u001b[1m3750/3750\u001b[0m \u001b[32m━━━━━━━━━━━━━━━━━━━━\u001b[0m\u001b[37m\u001b[0m \u001b[1m28s\u001b[0m 8ms/step - accuracy: 0.6056 - loss: 1.0270 - val_accuracy: 0.7720 - val_loss: 0.6961\n",
      "\n",
      "=== SGD | Başlangıç Noktası 5 | Epoch 4/10 ===\n",
      "\u001b[1m3750/3750\u001b[0m \u001b[32m━━━━━━━━━━━━━━━━━━━━\u001b[0m\u001b[37m\u001b[0m \u001b[1m27s\u001b[0m 7ms/step - accuracy: 0.7730 - loss: 0.6559 - val_accuracy: 0.8350 - val_loss: 0.4985\n",
      "\n",
      "=== SGD | Başlangıç Noktası 5 | Epoch 5/10 ===\n",
      "\u001b[1m3750/3750\u001b[0m \u001b[32m━━━━━━━━━━━━━━━━━━━━\u001b[0m\u001b[37m\u001b[0m \u001b[1m27s\u001b[0m 7ms/step - accuracy: 0.8377 - loss: 0.4840 - val_accuracy: 0.8578 - val_loss: 0.4262\n",
      "\n",
      "=== SGD | Başlangıç Noktası 5 | Epoch 6/10 ===\n",
      "\u001b[1m3750/3750\u001b[0m \u001b[32m━━━━━━━━━━━━━━━━━━━━\u001b[0m\u001b[37m\u001b[0m \u001b[1m36s\u001b[0m 10ms/step - accuracy: 0.8649 - loss: 0.4122 - val_accuracy: 0.8583 - val_loss: 0.4063\n",
      "\n",
      "=== SGD | Başlangıç Noktası 5 | Epoch 7/10 ===\n",
      "\u001b[1m3750/3750\u001b[0m \u001b[32m━━━━━━━━━━━━━━━━━━━━\u001b[0m\u001b[37m\u001b[0m \u001b[1m32s\u001b[0m 8ms/step - accuracy: 0.8792 - loss: 0.3706 - val_accuracy: 0.8695 - val_loss: 0.3789\n",
      "\n",
      "=== SGD | Başlangıç Noktası 5 | Epoch 8/10 ===\n",
      "\u001b[1m3750/3750\u001b[0m \u001b[32m━━━━━━━━━━━━━━━━━━━━\u001b[0m\u001b[37m\u001b[0m \u001b[1m27s\u001b[0m 7ms/step - accuracy: 0.8862 - loss: 0.3479 - val_accuracy: 0.8800 - val_loss: 0.3547\n",
      "\n",
      "=== SGD | Başlangıç Noktası 5 | Epoch 9/10 ===\n",
      "\u001b[1m3750/3750\u001b[0m \u001b[32m━━━━━━━━━━━━━━━━━━━━\u001b[0m\u001b[37m\u001b[0m \u001b[1m35s\u001b[0m 9ms/step - accuracy: 0.8948 - loss: 0.3251 - val_accuracy: 0.8843 - val_loss: 0.3422\n",
      "\n",
      "=== SGD | Başlangıç Noktası 5 | Epoch 10/10 ===\n",
      "\u001b[1m3750/3750\u001b[0m \u001b[32m━━━━━━━━━━━━━━━━━━━━\u001b[0m\u001b[37m\u001b[0m \u001b[1m32s\u001b[0m 8ms/step - accuracy: 0.9004 - loss: 0.3056 - val_accuracy: 0.8833 - val_loss: 0.3393\n",
      "\n",
      "Optimizasyon Algoritması: SGD_momentum\n",
      "\n",
      "Başlangıç Noktası: 1\n",
      "\n",
      "=== SGD_momentum | Başlangıç Noktası 1 | Epoch 1/10 ===\n",
      "\u001b[1m3750/3750\u001b[0m \u001b[32m━━━━━━━━━━━━━━━━━━━━\u001b[0m\u001b[37m\u001b[0m \u001b[1m44s\u001b[0m 12ms/step - accuracy: 0.4759 - loss: 1.1086 - val_accuracy: 0.8566 - val_loss: 0.4120\n",
      "\n",
      "=== SGD_momentum | Başlangıç Noktası 1 | Epoch 2/10 ===\n",
      "\u001b[1m3750/3750\u001b[0m \u001b[32m━━━━━━━━━━━━━━━━━━━━\u001b[0m\u001b[37m\u001b[0m \u001b[1m44s\u001b[0m 12ms/step - accuracy: 0.8692 - loss: 0.3825 - val_accuracy: 0.8641 - val_loss: 0.3905\n",
      "\n",
      "=== SGD_momentum | Başlangıç Noktası 1 | Epoch 3/10 ===\n",
      "\u001b[1m3750/3750\u001b[0m \u001b[32m━━━━━━━━━━━━━━━━━━━━\u001b[0m\u001b[37m\u001b[0m \u001b[1m44s\u001b[0m 12ms/step - accuracy: 0.8978 - loss: 0.3026 - val_accuracy: 0.8859 - val_loss: 0.3339\n",
      "\n",
      "=== SGD_momentum | Başlangıç Noktası 1 | Epoch 4/10 ===\n",
      "\u001b[1m3750/3750\u001b[0m \u001b[32m━━━━━━━━━━━━━━━━━━━━\u001b[0m\u001b[37m\u001b[0m \u001b[1m55s\u001b[0m 15ms/step - accuracy: 0.9151 - loss: 0.2496 - val_accuracy: 0.8847 - val_loss: 0.3432\n",
      "\n",
      "=== SGD_momentum | Başlangıç Noktası 1 | Epoch 5/10 ===\n",
      "\u001b[1m3750/3750\u001b[0m \u001b[32m━━━━━━━━━━━━━━━━━━━━\u001b[0m\u001b[37m\u001b[0m \u001b[1m41s\u001b[0m 11ms/step - accuracy: 0.9284 - loss: 0.2090 - val_accuracy: 0.8908 - val_loss: 0.3378\n",
      "\n",
      "=== SGD_momentum | Başlangıç Noktası 1 | Epoch 6/10 ===\n",
      "\u001b[1m3750/3750\u001b[0m \u001b[32m━━━━━━━━━━━━━━━━━━━━\u001b[0m\u001b[37m\u001b[0m \u001b[1m41s\u001b[0m 11ms/step - accuracy: 0.9434 - loss: 0.1649 - val_accuracy: 0.8722 - val_loss: 0.3983\n",
      "\n",
      "=== SGD_momentum | Başlangıç Noktası 1 | Epoch 7/10 ===\n",
      "\u001b[1m3750/3750\u001b[0m \u001b[32m━━━━━━━━━━━━━━━━━━━━\u001b[0m\u001b[37m\u001b[0m \u001b[1m41s\u001b[0m 11ms/step - accuracy: 0.9544 - loss: 0.1306 - val_accuracy: 0.8842 - val_loss: 0.3780\n",
      "\n",
      "=== SGD_momentum | Başlangıç Noktası 1 | Epoch 8/10 ===\n",
      "\u001b[1m3750/3750\u001b[0m \u001b[32m━━━━━━━━━━━━━━━━━━━━\u001b[0m\u001b[37m\u001b[0m \u001b[1m40s\u001b[0m 11ms/step - accuracy: 0.9651 - loss: 0.1008 - val_accuracy: 0.8755 - val_loss: 0.4372\n",
      "\n",
      "=== SGD_momentum | Başlangıç Noktası 1 | Epoch 9/10 ===\n",
      "\u001b[1m3750/3750\u001b[0m \u001b[32m━━━━━━━━━━━━━━━━━━━━\u001b[0m\u001b[37m\u001b[0m \u001b[1m43s\u001b[0m 11ms/step - accuracy: 0.9740 - loss: 0.0762 - val_accuracy: 0.8768 - val_loss: 0.4910\n",
      "\n",
      "=== SGD_momentum | Başlangıç Noktası 1 | Epoch 10/10 ===\n",
      "\u001b[1m3750/3750\u001b[0m \u001b[32m━━━━━━━━━━━━━━━━━━━━\u001b[0m\u001b[37m\u001b[0m \u001b[1m44s\u001b[0m 12ms/step - accuracy: 0.9782 - loss: 0.0621 - val_accuracy: 0.8772 - val_loss: 0.5185\n",
      "\n",
      "Başlangıç Noktası: 2\n",
      "\n",
      "=== SGD_momentum | Başlangıç Noktası 2 | Epoch 1/10 ===\n",
      "\u001b[1m3750/3750\u001b[0m \u001b[32m━━━━━━━━━━━━━━━━━━━━\u001b[0m\u001b[37m\u001b[0m \u001b[1m44s\u001b[0m 12ms/step - accuracy: 0.4720 - loss: 1.1099 - val_accuracy: 0.8533 - val_loss: 0.4346\n",
      "\n",
      "=== SGD_momentum | Başlangıç Noktası 2 | Epoch 2/10 ===\n",
      "\u001b[1m3750/3750\u001b[0m \u001b[32m━━━━━━━━━━━━━━━━━━━━\u001b[0m\u001b[37m\u001b[0m \u001b[1m44s\u001b[0m 12ms/step - accuracy: 0.8726 - loss: 0.3738 - val_accuracy: 0.8807 - val_loss: 0.3503\n",
      "\n",
      "=== SGD_momentum | Başlangıç Noktası 2 | Epoch 3/10 ===\n",
      "\u001b[1m3750/3750\u001b[0m \u001b[32m━━━━━━━━━━━━━━━━━━━━\u001b[0m\u001b[37m\u001b[0m \u001b[1m44s\u001b[0m 12ms/step - accuracy: 0.9006 - loss: 0.2977 - val_accuracy: 0.8837 - val_loss: 0.3417\n",
      "\n",
      "=== SGD_momentum | Başlangıç Noktası 2 | Epoch 4/10 ===\n",
      "\u001b[1m3750/3750\u001b[0m \u001b[32m━━━━━━━━━━━━━━━━━━━━\u001b[0m\u001b[37m\u001b[0m \u001b[1m125s\u001b[0m 33ms/step - accuracy: 0.9156 - loss: 0.2500 - val_accuracy: 0.8875 - val_loss: 0.3334\n",
      "\n",
      "=== SGD_momentum | Başlangıç Noktası 2 | Epoch 5/10 ===\n",
      "\u001b[1m3750/3750\u001b[0m \u001b[32m━━━━━━━━━━━━━━━━━━━━\u001b[0m\u001b[37m\u001b[0m \u001b[1m44s\u001b[0m 12ms/step - accuracy: 0.9285 - loss: 0.2090 - val_accuracy: 0.8878 - val_loss: 0.3416\n",
      "\n",
      "=== SGD_momentum | Başlangıç Noktası 2 | Epoch 6/10 ===\n",
      "\u001b[1m3750/3750\u001b[0m \u001b[32m━━━━━━━━━━━━━━━━━━━━\u001b[0m\u001b[37m\u001b[0m \u001b[1m41s\u001b[0m 11ms/step - accuracy: 0.9434 - loss: 0.1635 - val_accuracy: 0.8792 - val_loss: 0.3711\n",
      "\n",
      "=== SGD_momentum | Başlangıç Noktası 2 | Epoch 7/10 ===\n",
      "\u001b[1m3750/3750\u001b[0m \u001b[32m━━━━━━━━━━━━━━━━━━━━\u001b[0m\u001b[37m\u001b[0m \u001b[1m42s\u001b[0m 11ms/step - accuracy: 0.9551 - loss: 0.1291 - val_accuracy: 0.8839 - val_loss: 0.3961\n",
      "\n",
      "=== SGD_momentum | Başlangıç Noktası 2 | Epoch 8/10 ===\n",
      "\u001b[1m3750/3750\u001b[0m \u001b[32m━━━━━━━━━━━━━━━━━━━━\u001b[0m\u001b[37m\u001b[0m \u001b[1m40s\u001b[0m 11ms/step - accuracy: 0.9650 - loss: 0.1018 - val_accuracy: 0.8851 - val_loss: 0.4271\n",
      "\n",
      "=== SGD_momentum | Başlangıç Noktası 2 | Epoch 9/10 ===\n",
      "\u001b[1m3750/3750\u001b[0m \u001b[32m━━━━━━━━━━━━━━━━━━━━\u001b[0m\u001b[37m\u001b[0m \u001b[1m41s\u001b[0m 11ms/step - accuracy: 0.9727 - loss: 0.0797 - val_accuracy: 0.8801 - val_loss: 0.4747\n",
      "\n",
      "=== SGD_momentum | Başlangıç Noktası 2 | Epoch 10/10 ===\n",
      "\u001b[1m3750/3750\u001b[0m \u001b[32m━━━━━━━━━━━━━━━━━━━━\u001b[0m\u001b[37m\u001b[0m \u001b[1m45s\u001b[0m 12ms/step - accuracy: 0.9786 - loss: 0.0633 - val_accuracy: 0.8822 - val_loss: 0.4958\n",
      "\n",
      "Başlangıç Noktası: 3\n",
      "\n",
      "=== SGD_momentum | Başlangıç Noktası 3 | Epoch 1/10 ===\n",
      "\u001b[1m3750/3750\u001b[0m \u001b[32m━━━━━━━━━━━━━━━━━━━━\u001b[0m\u001b[37m\u001b[0m \u001b[1m42s\u001b[0m 11ms/step - accuracy: 0.4856 - loss: 1.0921 - val_accuracy: 0.8607 - val_loss: 0.3990\n",
      "\n",
      "=== SGD_momentum | Başlangıç Noktası 3 | Epoch 2/10 ===\n",
      "\u001b[1m3750/3750\u001b[0m \u001b[32m━━━━━━━━━━━━━━━━━━━━\u001b[0m\u001b[37m\u001b[0m \u001b[1m43s\u001b[0m 11ms/step - accuracy: 0.8724 - loss: 0.3781 - val_accuracy: 0.8808 - val_loss: 0.3529\n",
      "\n",
      "=== SGD_momentum | Başlangıç Noktası 3 | Epoch 3/10 ===\n",
      "\u001b[1m3750/3750\u001b[0m \u001b[32m━━━━━━━━━━━━━━━━━━━━\u001b[0m\u001b[37m\u001b[0m \u001b[1m45s\u001b[0m 12ms/step - accuracy: 0.8988 - loss: 0.3000 - val_accuracy: 0.8872 - val_loss: 0.3246\n",
      "\n",
      "=== SGD_momentum | Başlangıç Noktası 3 | Epoch 4/10 ===\n",
      "\u001b[1m3750/3750\u001b[0m \u001b[32m━━━━━━━━━━━━━━━━━━━━\u001b[0m\u001b[37m\u001b[0m \u001b[1m41s\u001b[0m 11ms/step - accuracy: 0.9143 - loss: 0.2504 - val_accuracy: 0.8864 - val_loss: 0.3302\n",
      "\n",
      "=== SGD_momentum | Başlangıç Noktası 3 | Epoch 5/10 ===\n",
      "\u001b[1m3750/3750\u001b[0m \u001b[32m━━━━━━━━━━━━━━━━━━━━\u001b[0m\u001b[37m\u001b[0m \u001b[1m43s\u001b[0m 11ms/step - accuracy: 0.9282 - loss: 0.2088 - val_accuracy: 0.8901 - val_loss: 0.3406\n",
      "\n",
      "=== SGD_momentum | Başlangıç Noktası 3 | Epoch 6/10 ===\n",
      "\u001b[1m3750/3750\u001b[0m \u001b[32m━━━━━━━━━━━━━━━━━━━━\u001b[0m\u001b[37m\u001b[0m \u001b[1m45s\u001b[0m 12ms/step - accuracy: 0.9430 - loss: 0.1623 - val_accuracy: 0.8824 - val_loss: 0.3835\n",
      "\n",
      "=== SGD_momentum | Başlangıç Noktası 3 | Epoch 7/10 ===\n",
      "\u001b[1m3750/3750\u001b[0m \u001b[32m━━━━━━━━━━━━━━━━━━━━\u001b[0m\u001b[37m\u001b[0m \u001b[1m40s\u001b[0m 11ms/step - accuracy: 0.9552 - loss: 0.1304 - val_accuracy: 0.8821 - val_loss: 0.3790\n",
      "\n",
      "=== SGD_momentum | Başlangıç Noktası 3 | Epoch 8/10 ===\n",
      "\u001b[1m3750/3750\u001b[0m \u001b[32m━━━━━━━━━━━━━━━━━━━━\u001b[0m\u001b[37m\u001b[0m \u001b[1m40s\u001b[0m 11ms/step - accuracy: 0.9664 - loss: 0.0996 - val_accuracy: 0.8778 - val_loss: 0.4552\n",
      "\n",
      "=== SGD_momentum | Başlangıç Noktası 3 | Epoch 9/10 ===\n",
      "\u001b[1m3750/3750\u001b[0m \u001b[32m━━━━━━━━━━━━━━━━━━━━\u001b[0m\u001b[37m\u001b[0m \u001b[1m47s\u001b[0m 12ms/step - accuracy: 0.9730 - loss: 0.0780 - val_accuracy: 0.8783 - val_loss: 0.4714\n",
      "\n",
      "=== SGD_momentum | Başlangıç Noktası 3 | Epoch 10/10 ===\n",
      "\u001b[1m3750/3750\u001b[0m \u001b[32m━━━━━━━━━━━━━━━━━━━━\u001b[0m\u001b[37m\u001b[0m \u001b[1m53s\u001b[0m 14ms/step - accuracy: 0.9794 - loss: 0.0610 - val_accuracy: 0.8739 - val_loss: 0.5138\n",
      "\n",
      "Başlangıç Noktası: 4\n",
      "\n",
      "=== SGD_momentum | Başlangıç Noktası 4 | Epoch 1/10 ===\n",
      "\u001b[1m3750/3750\u001b[0m \u001b[32m━━━━━━━━━━━━━━━━━━━━\u001b[0m\u001b[37m\u001b[0m \u001b[1m51s\u001b[0m 13ms/step - accuracy: 0.4798 - loss: 1.0986 - val_accuracy: 0.8658 - val_loss: 0.3924\n",
      "\n",
      "=== SGD_momentum | Başlangıç Noktası 4 | Epoch 2/10 ===\n",
      "\u001b[1m3750/3750\u001b[0m \u001b[32m━━━━━━━━━━━━━━━━━━━━\u001b[0m\u001b[37m\u001b[0m \u001b[1m45s\u001b[0m 12ms/step - accuracy: 0.8749 - loss: 0.3713 - val_accuracy: 0.8830 - val_loss: 0.3439\n",
      "\n",
      "=== SGD_momentum | Başlangıç Noktası 4 | Epoch 3/10 ===\n",
      "\u001b[1m3750/3750\u001b[0m \u001b[32m━━━━━━━━━━━━━━━━━━━━\u001b[0m\u001b[37m\u001b[0m \u001b[1m48s\u001b[0m 13ms/step - accuracy: 0.8998 - loss: 0.2983 - val_accuracy: 0.8872 - val_loss: 0.3310\n",
      "\n",
      "=== SGD_momentum | Başlangıç Noktası 4 | Epoch 4/10 ===\n",
      "\u001b[1m3750/3750\u001b[0m \u001b[32m━━━━━━━━━━━━━━━━━━━━\u001b[0m\u001b[37m\u001b[0m \u001b[1m48s\u001b[0m 13ms/step - accuracy: 0.9163 - loss: 0.2459 - val_accuracy: 0.8775 - val_loss: 0.3575\n",
      "\n",
      "=== SGD_momentum | Başlangıç Noktası 4 | Epoch 5/10 ===\n",
      "\u001b[1m3750/3750\u001b[0m \u001b[32m━━━━━━━━━━━━━━━━━━━━\u001b[0m\u001b[37m\u001b[0m \u001b[1m44s\u001b[0m 12ms/step - accuracy: 0.9285 - loss: 0.2085 - val_accuracy: 0.8916 - val_loss: 0.3330\n",
      "\n",
      "=== SGD_momentum | Başlangıç Noktası 4 | Epoch 6/10 ===\n",
      "\u001b[1m3750/3750\u001b[0m \u001b[32m━━━━━━━━━━━━━━━━━━━━\u001b[0m\u001b[37m\u001b[0m \u001b[1m45s\u001b[0m 12ms/step - accuracy: 0.9430 - loss: 0.1660 - val_accuracy: 0.8851 - val_loss: 0.3544\n",
      "\n",
      "=== SGD_momentum | Başlangıç Noktası 4 | Epoch 7/10 ===\n",
      "\u001b[1m3750/3750\u001b[0m \u001b[32m━━━━━━━━━━━━━━━━━━━━\u001b[0m\u001b[37m\u001b[0m \u001b[1m45s\u001b[0m 12ms/step - accuracy: 0.9550 - loss: 0.1315 - val_accuracy: 0.8846 - val_loss: 0.3809\n",
      "\n",
      "=== SGD_momentum | Başlangıç Noktası 4 | Epoch 8/10 ===\n",
      "\u001b[1m3750/3750\u001b[0m \u001b[32m━━━━━━━━━━━━━━━━━━━━\u001b[0m\u001b[37m\u001b[0m \u001b[1m45s\u001b[0m 12ms/step - accuracy: 0.9651 - loss: 0.0996 - val_accuracy: 0.8820 - val_loss: 0.4205\n",
      "\n",
      "=== SGD_momentum | Başlangıç Noktası 4 | Epoch 9/10 ===\n",
      "\u001b[1m3750/3750\u001b[0m \u001b[32m━━━━━━━━━━━━━━━━━━━━\u001b[0m\u001b[37m\u001b[0m \u001b[1m46s\u001b[0m 12ms/step - accuracy: 0.9723 - loss: 0.0789 - val_accuracy: 0.8818 - val_loss: 0.4692\n",
      "\n",
      "=== SGD_momentum | Başlangıç Noktası 4 | Epoch 10/10 ===\n",
      "\u001b[1m3750/3750\u001b[0m \u001b[32m━━━━━━━━━━━━━━━━━━━━\u001b[0m\u001b[37m\u001b[0m \u001b[1m48s\u001b[0m 13ms/step - accuracy: 0.9794 - loss: 0.0629 - val_accuracy: 0.8750 - val_loss: 0.4996\n",
      "\n",
      "Başlangıç Noktası: 5\n",
      "\n",
      "=== SGD_momentum | Başlangıç Noktası 5 | Epoch 1/10 ===\n",
      "\u001b[1m3750/3750\u001b[0m \u001b[32m━━━━━━━━━━━━━━━━━━━━\u001b[0m\u001b[37m\u001b[0m \u001b[1m58s\u001b[0m 15ms/step - accuracy: 0.4632 - loss: 1.1239 - val_accuracy: 0.8620 - val_loss: 0.3965\n",
      "\n",
      "=== SGD_momentum | Başlangıç Noktası 5 | Epoch 2/10 ===\n",
      "\u001b[1m3750/3750\u001b[0m \u001b[32m━━━━━━━━━━━━━━━━━━━━\u001b[0m\u001b[37m\u001b[0m \u001b[1m45s\u001b[0m 12ms/step - accuracy: 0.8754 - loss: 0.3734 - val_accuracy: 0.8832 - val_loss: 0.3447\n",
      "\n",
      "=== SGD_momentum | Başlangıç Noktası 5 | Epoch 3/10 ===\n",
      "\u001b[1m3750/3750\u001b[0m \u001b[32m━━━━━━━━━━━━━━━━━━━━\u001b[0m\u001b[37m\u001b[0m \u001b[1m54s\u001b[0m 14ms/step - accuracy: 0.9006 - loss: 0.2928 - val_accuracy: 0.8907 - val_loss: 0.3262\n",
      "\n",
      "=== SGD_momentum | Başlangıç Noktası 5 | Epoch 4/10 ===\n",
      "\u001b[1m3750/3750\u001b[0m \u001b[32m━━━━━━━━━━━━━━━━━━━━\u001b[0m\u001b[37m\u001b[0m \u001b[1m48s\u001b[0m 13ms/step - accuracy: 0.9171 - loss: 0.2474 - val_accuracy: 0.8928 - val_loss: 0.3234\n",
      "\n",
      "=== SGD_momentum | Başlangıç Noktası 5 | Epoch 5/10 ===\n",
      "\u001b[1m3750/3750\u001b[0m \u001b[32m━━━━━━━━━━━━━━━━━━━━\u001b[0m\u001b[37m\u001b[0m \u001b[1m44s\u001b[0m 12ms/step - accuracy: 0.9314 - loss: 0.2006 - val_accuracy: 0.8879 - val_loss: 0.3495\n",
      "\n",
      "=== SGD_momentum | Başlangıç Noktası 5 | Epoch 6/10 ===\n",
      "\u001b[1m3750/3750\u001b[0m \u001b[32m━━━━━━━━━━━━━━━━━━━━\u001b[0m\u001b[37m\u001b[0m \u001b[1m47s\u001b[0m 13ms/step - accuracy: 0.9433 - loss: 0.1640 - val_accuracy: 0.8830 - val_loss: 0.3644\n",
      "\n",
      "=== SGD_momentum | Başlangıç Noktası 5 | Epoch 7/10 ===\n",
      "\u001b[1m3750/3750\u001b[0m \u001b[32m━━━━━━━━━━━━━━━━━━━━\u001b[0m\u001b[37m\u001b[0m \u001b[1m48s\u001b[0m 13ms/step - accuracy: 0.9571 - loss: 0.1260 - val_accuracy: 0.8753 - val_loss: 0.4115\n",
      "\n",
      "=== SGD_momentum | Başlangıç Noktası 5 | Epoch 8/10 ===\n",
      "\u001b[1m3750/3750\u001b[0m \u001b[32m━━━━━━━━━━━━━━━━━━━━\u001b[0m\u001b[37m\u001b[0m \u001b[1m43s\u001b[0m 11ms/step - accuracy: 0.9667 - loss: 0.0964 - val_accuracy: 0.8767 - val_loss: 0.4441\n",
      "\n",
      "=== SGD_momentum | Başlangıç Noktası 5 | Epoch 9/10 ===\n",
      "\u001b[1m3750/3750\u001b[0m \u001b[32m━━━━━━━━━━━━━━━━━━━━\u001b[0m\u001b[37m\u001b[0m \u001b[1m47s\u001b[0m 13ms/step - accuracy: 0.9738 - loss: 0.0764 - val_accuracy: 0.8761 - val_loss: 0.4676\n",
      "\n",
      "=== SGD_momentum | Başlangıç Noktası 5 | Epoch 10/10 ===\n",
      "\u001b[1m3750/3750\u001b[0m \u001b[32m━━━━━━━━━━━━━━━━━━━━\u001b[0m\u001b[37m\u001b[0m \u001b[1m45s\u001b[0m 12ms/step - accuracy: 0.9791 - loss: 0.0624 - val_accuracy: 0.8770 - val_loss: 0.5087\n",
      "\n",
      "Optimizasyon Algoritması: Adam\n",
      "\n",
      "Başlangıç Noktası: 1\n",
      "\n",
      "=== Adam | Başlangıç Noktası 1 | Epoch 1/10 ===\n",
      "\u001b[1m3750/3750\u001b[0m \u001b[32m━━━━━━━━━━━━━━━━━━━━\u001b[0m\u001b[37m\u001b[0m \u001b[1m103s\u001b[0m 27ms/step - accuracy: 0.7981 - loss: 0.5166 - val_accuracy: 0.9062 - val_loss: 0.2900\n",
      "\n",
      "=== Adam | Başlangıç Noktası 1 | Epoch 2/10 ===\n",
      "\u001b[1m3750/3750\u001b[0m \u001b[32m━━━━━━━━━━━━━━━━━━━━\u001b[0m\u001b[37m\u001b[0m \u001b[1m98s\u001b[0m 26ms/step - accuracy: 0.9335 - loss: 0.1939 - val_accuracy: 0.8966 - val_loss: 0.3297\n",
      "\n",
      "=== Adam | Başlangıç Noktası 1 | Epoch 3/10 ===\n",
      "\u001b[1m3750/3750\u001b[0m \u001b[32m━━━━━━━━━━━━━━━━━━━━\u001b[0m\u001b[37m\u001b[0m \u001b[1m97s\u001b[0m 26ms/step - accuracy: 0.9705 - loss: 0.0862 - val_accuracy: 0.8839 - val_loss: 0.4363\n",
      "\n",
      "=== Adam | Başlangıç Noktası 1 | Epoch 4/10 ===\n",
      "\u001b[1m3750/3750\u001b[0m \u001b[32m━━━━━━━━━━━━━━━━━━━━\u001b[0m\u001b[37m\u001b[0m \u001b[1m97s\u001b[0m 26ms/step - accuracy: 0.9859 - loss: 0.0447 - val_accuracy: 0.8864 - val_loss: 0.5435\n",
      "\n",
      "=== Adam | Başlangıç Noktası 1 | Epoch 5/10 ===\n",
      "\u001b[1m3750/3750\u001b[0m \u001b[32m━━━━━━━━━━━━━━━━━━━━\u001b[0m\u001b[37m\u001b[0m \u001b[1m94s\u001b[0m 25ms/step - accuracy: 0.9888 - loss: 0.0351 - val_accuracy: 0.8837 - val_loss: 0.6737\n",
      "\n",
      "=== Adam | Başlangıç Noktası 1 | Epoch 6/10 ===\n",
      "\u001b[1m3750/3750\u001b[0m \u001b[32m━━━━━━━━━━━━━━━━━━━━\u001b[0m\u001b[37m\u001b[0m \u001b[1m94s\u001b[0m 25ms/step - accuracy: 0.9906 - loss: 0.0286 - val_accuracy: 0.8816 - val_loss: 0.7250\n",
      "\n",
      "=== Adam | Başlangıç Noktası 1 | Epoch 7/10 ===\n",
      "\u001b[1m3750/3750\u001b[0m \u001b[32m━━━━━━━━━━━━━━━━━━━━\u001b[0m\u001b[37m\u001b[0m \u001b[1m98s\u001b[0m 26ms/step - accuracy: 0.9920 - loss: 0.0237 - val_accuracy: 0.8804 - val_loss: 0.8359\n",
      "\n",
      "=== Adam | Başlangıç Noktası 1 | Epoch 8/10 ===\n",
      "\u001b[1m3750/3750\u001b[0m \u001b[32m━━━━━━━━━━━━━━━━━━━━\u001b[0m\u001b[37m\u001b[0m \u001b[1m98s\u001b[0m 26ms/step - accuracy: 0.9920 - loss: 0.0227 - val_accuracy: 0.8774 - val_loss: 0.9030\n",
      "\n",
      "=== Adam | Başlangıç Noktası 1 | Epoch 9/10 ===\n",
      "\u001b[1m3750/3750\u001b[0m \u001b[32m━━━━━━━━━━━━━━━━━━━━\u001b[0m\u001b[37m\u001b[0m \u001b[1m98s\u001b[0m 26ms/step - accuracy: 0.9931 - loss: 0.0215 - val_accuracy: 0.8795 - val_loss: 0.9918\n",
      "\n",
      "=== Adam | Başlangıç Noktası 1 | Epoch 10/10 ===\n",
      "\u001b[1m3750/3750\u001b[0m \u001b[32m━━━━━━━━━━━━━━━━━━━━\u001b[0m\u001b[37m\u001b[0m \u001b[1m410s\u001b[0m 109ms/step - accuracy: 0.9934 - loss: 0.0183 - val_accuracy: 0.8789 - val_loss: 1.0476\n",
      "\n",
      "Başlangıç Noktası: 2\n",
      "\n",
      "=== Adam | Başlangıç Noktası 2 | Epoch 1/10 ===\n",
      "\u001b[1m3750/3750\u001b[0m \u001b[32m━━━━━━━━━━━━━━━━━━━━\u001b[0m\u001b[37m\u001b[0m \u001b[1m108s\u001b[0m 29ms/step - accuracy: 0.7942 - loss: 0.5199 - val_accuracy: 0.8989 - val_loss: 0.2992\n",
      "\n",
      "=== Adam | Başlangıç Noktası 2 | Epoch 2/10 ===\n",
      "\u001b[1m3750/3750\u001b[0m \u001b[32m━━━━━━━━━━━━━━━━━━━━\u001b[0m\u001b[37m\u001b[0m \u001b[1m108s\u001b[0m 29ms/step - accuracy: 0.9348 - loss: 0.1921 - val_accuracy: 0.8951 - val_loss: 0.3264\n",
      "\n",
      "=== Adam | Başlangıç Noktası 2 | Epoch 3/10 ===\n",
      "\u001b[1m3750/3750\u001b[0m \u001b[32m━━━━━━━━━━━━━━━━━━━━\u001b[0m\u001b[37m\u001b[0m \u001b[1m106s\u001b[0m 28ms/step - accuracy: 0.9711 - loss: 0.0856 - val_accuracy: 0.8817 - val_loss: 0.4778\n",
      "\n",
      "=== Adam | Başlangıç Noktası 2 | Epoch 4/10 ===\n",
      "\u001b[1m3750/3750\u001b[0m \u001b[32m━━━━━━━━━━━━━━━━━━━━\u001b[0m\u001b[37m\u001b[0m \u001b[1m98s\u001b[0m 26ms/step - accuracy: 0.9848 - loss: 0.0476 - val_accuracy: 0.8866 - val_loss: 0.5289\n",
      "\n",
      "=== Adam | Başlangıç Noktası 2 | Epoch 5/10 ===\n",
      "\u001b[1m3750/3750\u001b[0m \u001b[32m━━━━━━━━━━━━━━━━━━━━\u001b[0m\u001b[37m\u001b[0m \u001b[1m97s\u001b[0m 26ms/step - accuracy: 0.9895 - loss: 0.0338 - val_accuracy: 0.8825 - val_loss: 0.6507\n",
      "\n",
      "=== Adam | Başlangıç Noktası 2 | Epoch 6/10 ===\n",
      "\u001b[1m3750/3750\u001b[0m \u001b[32m━━━━━━━━━━━━━━━━━━━━\u001b[0m\u001b[37m\u001b[0m \u001b[1m98s\u001b[0m 26ms/step - accuracy: 0.9904 - loss: 0.0284 - val_accuracy: 0.8866 - val_loss: 0.6889\n",
      "\n",
      "=== Adam | Başlangıç Noktası 2 | Epoch 7/10 ===\n",
      "\u001b[1m3750/3750\u001b[0m \u001b[32m━━━━━━━━━━━━━━━━━━━━\u001b[0m\u001b[37m\u001b[0m \u001b[1m97s\u001b[0m 26ms/step - accuracy: 0.9918 - loss: 0.0239 - val_accuracy: 0.8838 - val_loss: 0.8002\n",
      "\n",
      "=== Adam | Başlangıç Noktası 2 | Epoch 8/10 ===\n",
      "\u001b[1m3750/3750\u001b[0m \u001b[32m━━━━━━━━━━━━━━━━━━━━\u001b[0m\u001b[37m\u001b[0m \u001b[1m96s\u001b[0m 26ms/step - accuracy: 0.9923 - loss: 0.0245 - val_accuracy: 0.8822 - val_loss: 0.8206\n",
      "\n",
      "=== Adam | Başlangıç Noktası 2 | Epoch 9/10 ===\n",
      "\u001b[1m3750/3750\u001b[0m \u001b[32m━━━━━━━━━━━━━━━━━━━━\u001b[0m\u001b[37m\u001b[0m \u001b[1m99s\u001b[0m 26ms/step - accuracy: 0.9925 - loss: 0.0213 - val_accuracy: 0.8843 - val_loss: 0.9418\n",
      "\n",
      "=== Adam | Başlangıç Noktası 2 | Epoch 10/10 ===\n",
      "\u001b[1m3750/3750\u001b[0m \u001b[32m━━━━━━━━━━━━━━━━━━━━\u001b[0m\u001b[37m\u001b[0m \u001b[1m96s\u001b[0m 26ms/step - accuracy: 0.9934 - loss: 0.0182 - val_accuracy: 0.8795 - val_loss: 0.9529\n",
      "\n",
      "Başlangıç Noktası: 3\n",
      "\n",
      "=== Adam | Başlangıç Noktası 3 | Epoch 1/10 ===\n",
      "\u001b[1m3750/3750\u001b[0m \u001b[32m━━━━━━━━━━━━━━━━━━━━\u001b[0m\u001b[37m\u001b[0m \u001b[1m100s\u001b[0m 26ms/step - accuracy: 0.7924 - loss: 0.5253 - val_accuracy: 0.9024 - val_loss: 0.2951\n",
      "\n",
      "=== Adam | Başlangıç Noktası 3 | Epoch 2/10 ===\n",
      "\u001b[1m3750/3750\u001b[0m \u001b[32m━━━━━━━━━━━━━━━━━━━━\u001b[0m\u001b[37m\u001b[0m \u001b[1m96s\u001b[0m 26ms/step - accuracy: 0.9340 - loss: 0.1928 - val_accuracy: 0.8908 - val_loss: 0.3238\n",
      "\n",
      "=== Adam | Başlangıç Noktası 3 | Epoch 3/10 ===\n",
      "\u001b[1m3750/3750\u001b[0m \u001b[32m━━━━━━━━━━━━━━━━━━━━\u001b[0m\u001b[37m\u001b[0m \u001b[1m96s\u001b[0m 26ms/step - accuracy: 0.9723 - loss: 0.0817 - val_accuracy: 0.8857 - val_loss: 0.4439\n",
      "\n",
      "=== Adam | Başlangıç Noktası 3 | Epoch 4/10 ===\n",
      "\u001b[1m3750/3750\u001b[0m \u001b[32m━━━━━━━━━━━━━━━━━━━━\u001b[0m\u001b[37m\u001b[0m \u001b[1m95s\u001b[0m 25ms/step - accuracy: 0.9854 - loss: 0.0471 - val_accuracy: 0.8908 - val_loss: 0.5131\n",
      "\n",
      "=== Adam | Başlangıç Noktası 3 | Epoch 5/10 ===\n",
      "\u001b[1m3750/3750\u001b[0m \u001b[32m━━━━━━━━━━━━━━━━━━━━\u001b[0m\u001b[37m\u001b[0m \u001b[1m94s\u001b[0m 25ms/step - accuracy: 0.9899 - loss: 0.0323 - val_accuracy: 0.8845 - val_loss: 0.6684\n",
      "\n",
      "=== Adam | Başlangıç Noktası 3 | Epoch 6/10 ===\n",
      "\u001b[1m3750/3750\u001b[0m \u001b[32m━━━━━━━━━━━━━━━━━━━━\u001b[0m\u001b[37m\u001b[0m \u001b[1m103s\u001b[0m 27ms/step - accuracy: 0.9909 - loss: 0.0277 - val_accuracy: 0.8851 - val_loss: 0.6714\n",
      "\n",
      "=== Adam | Başlangıç Noktası 3 | Epoch 7/10 ===\n",
      "\u001b[1m3750/3750\u001b[0m \u001b[32m━━━━━━━━━━━━━━━━━━━━\u001b[0m\u001b[37m\u001b[0m \u001b[1m95s\u001b[0m 25ms/step - accuracy: 0.9916 - loss: 0.0254 - val_accuracy: 0.8832 - val_loss: 0.8407\n",
      "\n",
      "=== Adam | Başlangıç Noktası 3 | Epoch 8/10 ===\n",
      "\u001b[1m3750/3750\u001b[0m \u001b[32m━━━━━━━━━━━━━━━━━━━━\u001b[0m\u001b[37m\u001b[0m \u001b[1m93s\u001b[0m 25ms/step - accuracy: 0.9928 - loss: 0.0211 - val_accuracy: 0.8822 - val_loss: 0.8881\n",
      "\n",
      "=== Adam | Başlangıç Noktası 3 | Epoch 9/10 ===\n",
      "\u001b[1m3750/3750\u001b[0m \u001b[32m━━━━━━━━━━━━━━━━━━━━\u001b[0m\u001b[37m\u001b[0m \u001b[1m92s\u001b[0m 25ms/step - accuracy: 0.9930 - loss: 0.0202 - val_accuracy: 0.8855 - val_loss: 0.9140\n",
      "\n",
      "=== Adam | Başlangıç Noktası 3 | Epoch 10/10 ===\n",
      "\u001b[1m3750/3750\u001b[0m \u001b[32m━━━━━━━━━━━━━━━━━━━━\u001b[0m\u001b[37m\u001b[0m \u001b[1m94s\u001b[0m 25ms/step - accuracy: 0.9928 - loss: 0.0192 - val_accuracy: 0.8782 - val_loss: 1.1417\n",
      "\n",
      "Başlangıç Noktası: 4\n",
      "\n",
      "=== Adam | Başlangıç Noktası 4 | Epoch 1/10 ===\n",
      "\u001b[1m3750/3750\u001b[0m \u001b[32m━━━━━━━━━━━━━━━━━━━━\u001b[0m\u001b[37m\u001b[0m \u001b[1m96s\u001b[0m 25ms/step - accuracy: 0.7983 - loss: 0.5171 - val_accuracy: 0.8953 - val_loss: 0.3049\n",
      "\n",
      "=== Adam | Başlangıç Noktası 4 | Epoch 2/10 ===\n",
      "\u001b[1m3750/3750\u001b[0m \u001b[32m━━━━━━━━━━━━━━━━━━━━\u001b[0m\u001b[37m\u001b[0m \u001b[1m102s\u001b[0m 27ms/step - accuracy: 0.9337 - loss: 0.1943 - val_accuracy: 0.8936 - val_loss: 0.3430\n",
      "\n",
      "=== Adam | Başlangıç Noktası 4 | Epoch 3/10 ===\n",
      "\u001b[1m3750/3750\u001b[0m \u001b[32m━━━━━━━━━━━━━━━━━━━━\u001b[0m\u001b[37m\u001b[0m \u001b[1m93s\u001b[0m 25ms/step - accuracy: 0.9727 - loss: 0.0816 - val_accuracy: 0.8891 - val_loss: 0.4133\n",
      "\n",
      "=== Adam | Başlangıç Noktası 4 | Epoch 4/10 ===\n",
      "\u001b[1m3750/3750\u001b[0m \u001b[32m━━━━━━━━━━━━━━━━━━━━\u001b[0m\u001b[37m\u001b[0m \u001b[1m93s\u001b[0m 25ms/step - accuracy: 0.9847 - loss: 0.0483 - val_accuracy: 0.8896 - val_loss: 0.5486\n",
      "\n",
      "=== Adam | Başlangıç Noktası 4 | Epoch 5/10 ===\n",
      "\u001b[1m3750/3750\u001b[0m \u001b[32m━━━━━━━━━━━━━━━━━━━━\u001b[0m\u001b[37m\u001b[0m \u001b[1m93s\u001b[0m 25ms/step - accuracy: 0.9886 - loss: 0.0349 - val_accuracy: 0.8851 - val_loss: 0.6626\n",
      "\n",
      "=== Adam | Başlangıç Noktası 4 | Epoch 6/10 ===\n",
      "\u001b[1m3750/3750\u001b[0m \u001b[32m━━━━━━━━━━━━━━━━━━━━\u001b[0m\u001b[37m\u001b[0m \u001b[1m93s\u001b[0m 25ms/step - accuracy: 0.9920 - loss: 0.0264 - val_accuracy: 0.8833 - val_loss: 0.7368\n",
      "\n",
      "=== Adam | Başlangıç Noktası 4 | Epoch 7/10 ===\n",
      "\u001b[1m3750/3750\u001b[0m \u001b[32m━━━━━━━━━━━━━━━━━━━━\u001b[0m\u001b[37m\u001b[0m \u001b[1m95s\u001b[0m 25ms/step - accuracy: 0.9917 - loss: 0.0248 - val_accuracy: 0.8803 - val_loss: 0.7731\n",
      "\n",
      "=== Adam | Başlangıç Noktası 4 | Epoch 8/10 ===\n",
      "\u001b[1m3750/3750\u001b[0m \u001b[32m━━━━━━━━━━━━━━━━━━━━\u001b[0m\u001b[37m\u001b[0m \u001b[1m94s\u001b[0m 25ms/step - accuracy: 0.9919 - loss: 0.0226 - val_accuracy: 0.8837 - val_loss: 0.8752\n",
      "\n",
      "=== Adam | Başlangıç Noktası 4 | Epoch 9/10 ===\n",
      "\u001b[1m3750/3750\u001b[0m \u001b[32m━━━━━━━━━━━━━━━━━━━━\u001b[0m\u001b[37m\u001b[0m \u001b[1m93s\u001b[0m 25ms/step - accuracy: 0.9933 - loss: 0.0201 - val_accuracy: 0.8829 - val_loss: 0.9184\n",
      "\n",
      "=== Adam | Başlangıç Noktası 4 | Epoch 10/10 ===\n",
      "\u001b[1m3750/3750\u001b[0m \u001b[32m━━━━━━━━━━━━━━━━━━━━\u001b[0m\u001b[37m\u001b[0m \u001b[1m93s\u001b[0m 25ms/step - accuracy: 0.9935 - loss: 0.0185 - val_accuracy: 0.8803 - val_loss: 0.9733\n",
      "\n",
      "Başlangıç Noktası: 5\n",
      "\n",
      "=== Adam | Başlangıç Noktası 5 | Epoch 1/10 ===\n",
      "\u001b[1m3750/3750\u001b[0m \u001b[32m━━━━━━━━━━━━━━━━━━━━\u001b[0m\u001b[37m\u001b[0m \u001b[1m97s\u001b[0m 26ms/step - accuracy: 0.8031 - loss: 0.5123 - val_accuracy: 0.8996 - val_loss: 0.2965\n",
      "\n",
      "=== Adam | Başlangıç Noktası 5 | Epoch 2/10 ===\n",
      "\u001b[1m3750/3750\u001b[0m \u001b[32m━━━━━━━━━━━━━━━━━━━━\u001b[0m\u001b[37m\u001b[0m \u001b[1m100s\u001b[0m 27ms/step - accuracy: 0.9348 - loss: 0.1893 - val_accuracy: 0.8928 - val_loss: 0.3279\n",
      "\n",
      "=== Adam | Başlangıç Noktası 5 | Epoch 3/10 ===\n",
      "\u001b[1m 235/3750\u001b[0m \u001b[32m━\u001b[0m\u001b[37m━━━━━━━━━━━━━━━━━━━\u001b[0m \u001b[1m1:42\u001b[0m 29ms/step - accuracy: 0.9705 - loss: 0.0813\n",
      "=== Adam | Başlangıç Noktası 5 | Epoch 4/10 ===\n",
      "\u001b[1m3750/3750\u001b[0m \u001b[32m━━━━━━━━━━━━━━━━━━━━\u001b[0m\u001b[37m\u001b[0m \u001b[1m97s\u001b[0m 26ms/step - accuracy: 0.9843 - loss: 0.0477 - val_accuracy: 0.8846 - val_loss: 0.5895\n",
      "\n",
      "=== Adam | Başlangıç Noktası 5 | Epoch 5/10 ===\n",
      "\u001b[1m3750/3750\u001b[0m \u001b[32m━━━━━━━━━━━━━━━━━━━━\u001b[0m\u001b[37m\u001b[0m \u001b[1m96s\u001b[0m 26ms/step - accuracy: 0.9893 - loss: 0.0331 - val_accuracy: 0.8850 - val_loss: 0.6764\n",
      "\n",
      "=== Adam | Başlangıç Noktası 5 | Epoch 6/10 ===\n",
      "\u001b[1m3750/3750\u001b[0m \u001b[32m━━━━━━━━━━━━━━━━━━━━\u001b[0m\u001b[37m\u001b[0m \u001b[1m96s\u001b[0m 26ms/step - accuracy: 0.9908 - loss: 0.0284 - val_accuracy: 0.8804 - val_loss: 0.6804\n",
      "\n",
      "=== Adam | Başlangıç Noktası 5 | Epoch 7/10 ===\n",
      "\u001b[1m3750/3750\u001b[0m \u001b[32m━━━━━━━━━━━━━━━━━━━━\u001b[0m\u001b[37m\u001b[0m \u001b[1m95s\u001b[0m 25ms/step - accuracy: 0.9916 - loss: 0.0249 - val_accuracy: 0.8825 - val_loss: 0.8310\n",
      "\n",
      "=== Adam | Başlangıç Noktası 5 | Epoch 8/10 ===\n",
      "\u001b[1m3750/3750\u001b[0m \u001b[32m━━━━━━━━━━━━━━━━━━━━\u001b[0m\u001b[37m\u001b[0m \u001b[1m100s\u001b[0m 27ms/step - accuracy: 0.9922 - loss: 0.0230 - val_accuracy: 0.8820 - val_loss: 0.8889\n",
      "\n",
      "=== Adam | Başlangıç Noktası 5 | Epoch 9/10 ===\n",
      "\u001b[1m3750/3750\u001b[0m \u001b[32m━━━━━━━━━━━━━━━━━━━━\u001b[0m\u001b[37m\u001b[0m \u001b[1m98s\u001b[0m 26ms/step - accuracy: 0.9927 - loss: 0.0216 - val_accuracy: 0.8789 - val_loss: 0.8852\n",
      "\n",
      "=== Adam | Başlangıç Noktası 5 | Epoch 10/10 ===\n",
      "\u001b[1m3750/3750\u001b[0m \u001b[32m━━━━━━━━━━━━━━━━━━━━\u001b[0m\u001b[37m\u001b[0m \u001b[1m97s\u001b[0m 26ms/step - accuracy: 0.9935 - loss: 0.0187 - val_accuracy: 0.8771 - val_loss: 1.0470\n"
     ]
    }
   ],
   "source": [
    "# Eğitim parametrelerini tanımlıyoruz\n",
    "batch_size = 32\n",
    "epochs = 10\n",
    "\n",
    "# Sonuçları saklamak için listeleri tutuyoruz\n",
    "trajectories = {}\n",
    "history_records = {}\n",
    "time_records = {}\n",
    "\n",
    "for opt_name, opt_config in optimizer_configs.items():\n",
    "    print(f\"\\nOptimizasyon Algoritması: {opt_name}\")\n",
    "    trajectories[opt_name] = []\n",
    "    history_records[opt_name] = []\n",
    "    time_records[opt_name] = []\n",
    "    for idx, w0 in enumerate(initial_weights):\n",
    "        print(f\"\\nBaşlangıç Noktası: {idx+1}\")\n",
    "        # Modeli başlangıç ağırlıklarıyla yeniden oluştur\n",
    "        model = create_model()\n",
    "        model.build(input_shape=(None, max_sequence_length))\n",
    "        model.set_weights(w0)\n",
    "\n",
    "        # Her model için optimizer'ı yeniden oluştur #aynı optimizer'ı kullanırken hata verdiği için eklendi\n",
    "        optimizer_class = opt_config['class']\n",
    "        optimizer_params = opt_config['params']\n",
    "        optimizer = optimizer_class(**optimizer_params)\n",
    "\n",
    "        model.compile(optimizer=optimizer, loss='categorical_crossentropy', metrics=['accuracy'])\n",
    "\n",
    "        # Ağırlık yörüngelerini saklamak için liste tutuyoruz\n",
    "        weight_trajectory = []\n",
    "        epoch_times = []\n",
    "        history = {'loss': [], 'accuracy': [], 'val_loss': [], 'val_accuracy': []}\n",
    "\n",
    "        # **Başlangıç ağırlıklarını kaydet**\n",
    "        initial_weights_vector = np.concatenate([w.flatten() for w in model.get_weights()])\n",
    "        weight_trajectory.append(initial_weights_vector)\n",
    "\n",
    "        for epoch in range(epochs):\n",
    "            print(f\"\\n=== {opt_name} | Başlangıç Noktası {idx+1} | Epoch {epoch+1}/{epochs} ===\")\n",
    "            start_time = time.time()\n",
    "            # Eğitimi bir epoch için gerçekleştir (her bir epoch sonunda ağırlıkları kaydedip eklemek için)\n",
    "            model.fit(X_train, y_train, batch_size=batch_size, epochs=1, validation_data=(X_test, y_test), verbose=1)\n",
    "            end_time = time.time()\n",
    "            # Epoch süresini kaydet\n",
    "            epoch_times.append(end_time - start_time)\n",
    "            # Ağırlıkları kaydet\n",
    "            weights = np.concatenate([w.flatten() for w in model.get_weights()])\n",
    "            weight_trajectory.append(weights)\n",
    "            # Kayıp ve doğruluğu kaydet\n",
    "            loss, acc = model.evaluate(X_train, y_train, verbose=0)\n",
    "            val_loss, val_acc = model.evaluate(X_test, y_test, verbose=0)\n",
    "            history['loss'].append(loss)\n",
    "            history['accuracy'].append(acc)\n",
    "            history['val_loss'].append(val_loss)\n",
    "            history['val_accuracy'].append(val_acc)\n",
    "\n",
    "        # Sonuçları sakla\n",
    "        trajectories[opt_name].append(np.array(weight_trajectory))\n",
    "        history_records[opt_name].append(history)\n",
    "        time_records[opt_name].append(np.array(epoch_times))"
   ]
  },
  {
   "cell_type": "markdown",
   "metadata": {
    "id": "7gVF8hxnvwlV"
   },
   "source": [
    "**learning_rate**: Öğrenme oranı, optimizasyon sürecinin adım büyüklüğünü belirler.learning_rate='auto' olarak ayarlandığında, t-SNE veri setinin\n",
    "boyutuna göre uygun bir öğrenme oranı seçer.  "
   ]
  },
  {
   "cell_type": "code",
   "execution_count": 57,
   "metadata": {
    "colab": {
     "base_uri": "https://localhost:8080/"
    },
    "executionInfo": {
     "elapsed": 19551,
     "status": "ok",
     "timestamp": 1731943146769,
     "user": {
      "displayName": "Ahmed Ugur",
      "userId": "07278114889288036484"
     },
     "user_tz": -180
    },
    "id": "2gctagkROoap",
    "outputId": "3f0215e1-68b4-4bc3-e022-4978638656c8"
   },
   "outputs": [
    {
     "name": "stdout",
     "output_type": "stream",
     "text": [
      "[t-SNE] Computing 151 nearest neighbors...\n",
      "[t-SNE] Indexed 165 samples in 0.307s...\n"
     ]
    },
    {
     "ename": "MemoryError",
     "evalue": "bad allocation",
     "output_type": "error",
     "traceback": [
      "\u001b[1;31m---------------------------------------------------------------------------\u001b[0m",
      "\u001b[1;31mMemoryError\u001b[0m                               Traceback (most recent call last)",
      "Cell \u001b[1;32mIn[57], line 20\u001b[0m\n\u001b[0;32m     17\u001b[0m \u001b[38;5;66;03m# t-SNE uygulaması\u001b[39;00m\n\u001b[0;32m     18\u001b[0m \u001b[38;5;66;03m# n_iter=1000\u001b[39;00m\n\u001b[0;32m     19\u001b[0m tsne \u001b[38;5;241m=\u001b[39m TSNE(n_components\u001b[38;5;241m=\u001b[39m\u001b[38;5;241m2\u001b[39m, random_state\u001b[38;5;241m=\u001b[39m\u001b[38;5;241m42\u001b[39m, perplexity\u001b[38;5;241m=\u001b[39m\u001b[38;5;241m50\u001b[39m, n_iter\u001b[38;5;241m=\u001b[39m\u001b[38;5;241m250\u001b[39m, learning_rate\u001b[38;5;241m=\u001b[39m\u001b[38;5;124m'\u001b[39m\u001b[38;5;124mauto\u001b[39m\u001b[38;5;124m'\u001b[39m, init\u001b[38;5;241m=\u001b[39m\u001b[38;5;124m'\u001b[39m\u001b[38;5;124mpca\u001b[39m\u001b[38;5;124m'\u001b[39m, verbose\u001b[38;5;241m=\u001b[39m\u001b[38;5;241m1\u001b[39m)\n\u001b[1;32m---> 20\u001b[0m tsne_results \u001b[38;5;241m=\u001b[39m \u001b[43mtsne\u001b[49m\u001b[38;5;241;43m.\u001b[39;49m\u001b[43mfit_transform\u001b[49m\u001b[43m(\u001b[49m\u001b[43mall_points\u001b[49m\u001b[43m)\u001b[49m\n\u001b[0;32m     22\u001b[0m \u001b[38;5;66;03m# Her yörüngenin başlangıç ve bitiş indekslerini bul\u001b[39;00m\n\u001b[0;32m     23\u001b[0m trajectory_lengths \u001b[38;5;241m=\u001b[39m [\u001b[38;5;28mlen\u001b[39m(traj) \u001b[38;5;28;01mfor\u001b[39;00m traj \u001b[38;5;129;01min\u001b[39;00m all_trajectories]\n",
      "File \u001b[1;32m~\\miniconda3\\Lib\\site-packages\\sklearn\\utils\\_set_output.py:316\u001b[0m, in \u001b[0;36m_wrap_method_output.<locals>.wrapped\u001b[1;34m(self, X, *args, **kwargs)\u001b[0m\n\u001b[0;32m    314\u001b[0m \u001b[38;5;129m@wraps\u001b[39m(f)\n\u001b[0;32m    315\u001b[0m \u001b[38;5;28;01mdef\u001b[39;00m \u001b[38;5;21mwrapped\u001b[39m(\u001b[38;5;28mself\u001b[39m, X, \u001b[38;5;241m*\u001b[39margs, \u001b[38;5;241m*\u001b[39m\u001b[38;5;241m*\u001b[39mkwargs):\n\u001b[1;32m--> 316\u001b[0m     data_to_wrap \u001b[38;5;241m=\u001b[39m \u001b[43mf\u001b[49m\u001b[43m(\u001b[49m\u001b[38;5;28;43mself\u001b[39;49m\u001b[43m,\u001b[49m\u001b[43m \u001b[49m\u001b[43mX\u001b[49m\u001b[43m,\u001b[49m\u001b[43m \u001b[49m\u001b[38;5;241;43m*\u001b[39;49m\u001b[43margs\u001b[49m\u001b[43m,\u001b[49m\u001b[43m \u001b[49m\u001b[38;5;241;43m*\u001b[39;49m\u001b[38;5;241;43m*\u001b[39;49m\u001b[43mkwargs\u001b[49m\u001b[43m)\u001b[49m\n\u001b[0;32m    317\u001b[0m     \u001b[38;5;28;01mif\u001b[39;00m \u001b[38;5;28misinstance\u001b[39m(data_to_wrap, \u001b[38;5;28mtuple\u001b[39m):\n\u001b[0;32m    318\u001b[0m         \u001b[38;5;66;03m# only wrap the first output for cross decomposition\u001b[39;00m\n\u001b[0;32m    319\u001b[0m         return_tuple \u001b[38;5;241m=\u001b[39m (\n\u001b[0;32m    320\u001b[0m             _wrap_data_with_container(method, data_to_wrap[\u001b[38;5;241m0\u001b[39m], X, \u001b[38;5;28mself\u001b[39m),\n\u001b[0;32m    321\u001b[0m             \u001b[38;5;241m*\u001b[39mdata_to_wrap[\u001b[38;5;241m1\u001b[39m:],\n\u001b[0;32m    322\u001b[0m         )\n",
      "File \u001b[1;32m~\\miniconda3\\Lib\\site-packages\\sklearn\\base.py:1473\u001b[0m, in \u001b[0;36m_fit_context.<locals>.decorator.<locals>.wrapper\u001b[1;34m(estimator, *args, **kwargs)\u001b[0m\n\u001b[0;32m   1466\u001b[0m     estimator\u001b[38;5;241m.\u001b[39m_validate_params()\n\u001b[0;32m   1468\u001b[0m \u001b[38;5;28;01mwith\u001b[39;00m config_context(\n\u001b[0;32m   1469\u001b[0m     skip_parameter_validation\u001b[38;5;241m=\u001b[39m(\n\u001b[0;32m   1470\u001b[0m         prefer_skip_nested_validation \u001b[38;5;129;01mor\u001b[39;00m global_skip_validation\n\u001b[0;32m   1471\u001b[0m     )\n\u001b[0;32m   1472\u001b[0m ):\n\u001b[1;32m-> 1473\u001b[0m     \u001b[38;5;28;01mreturn\u001b[39;00m \u001b[43mfit_method\u001b[49m\u001b[43m(\u001b[49m\u001b[43mestimator\u001b[49m\u001b[43m,\u001b[49m\u001b[43m \u001b[49m\u001b[38;5;241;43m*\u001b[39;49m\u001b[43margs\u001b[49m\u001b[43m,\u001b[49m\u001b[43m \u001b[49m\u001b[38;5;241;43m*\u001b[39;49m\u001b[38;5;241;43m*\u001b[39;49m\u001b[43mkwargs\u001b[49m\u001b[43m)\u001b[49m\n",
      "File \u001b[1;32m~\\miniconda3\\Lib\\site-packages\\sklearn\\manifold\\_t_sne.py:1176\u001b[0m, in \u001b[0;36mTSNE.fit_transform\u001b[1;34m(self, X, y)\u001b[0m\n\u001b[0;32m   1173\u001b[0m     \u001b[38;5;28mself\u001b[39m\u001b[38;5;241m.\u001b[39m_max_iter \u001b[38;5;241m=\u001b[39m \u001b[38;5;28mself\u001b[39m\u001b[38;5;241m.\u001b[39mmax_iter\n\u001b[0;32m   1175\u001b[0m \u001b[38;5;28mself\u001b[39m\u001b[38;5;241m.\u001b[39m_check_params_vs_input(X)\n\u001b[1;32m-> 1176\u001b[0m embedding \u001b[38;5;241m=\u001b[39m \u001b[38;5;28;43mself\u001b[39;49m\u001b[38;5;241;43m.\u001b[39;49m\u001b[43m_fit\u001b[49m\u001b[43m(\u001b[49m\u001b[43mX\u001b[49m\u001b[43m)\u001b[49m\n\u001b[0;32m   1177\u001b[0m \u001b[38;5;28mself\u001b[39m\u001b[38;5;241m.\u001b[39membedding_ \u001b[38;5;241m=\u001b[39m embedding\n\u001b[0;32m   1178\u001b[0m \u001b[38;5;28;01mreturn\u001b[39;00m \u001b[38;5;28mself\u001b[39m\u001b[38;5;241m.\u001b[39membedding_\n",
      "File \u001b[1;32m~\\miniconda3\\Lib\\site-packages\\sklearn\\manifold\\_t_sne.py:995\u001b[0m, in \u001b[0;36mTSNE._fit\u001b[1;34m(self, X, skip_num_points)\u001b[0m\n\u001b[0;32m    988\u001b[0m     \u001b[38;5;28mprint\u001b[39m(\n\u001b[0;32m    989\u001b[0m         \u001b[38;5;124m\"\u001b[39m\u001b[38;5;124m[t-SNE] Indexed \u001b[39m\u001b[38;5;132;01m{}\u001b[39;00m\u001b[38;5;124m samples in \u001b[39m\u001b[38;5;132;01m{:.3f}\u001b[39;00m\u001b[38;5;124ms...\u001b[39m\u001b[38;5;124m\"\u001b[39m\u001b[38;5;241m.\u001b[39mformat(\n\u001b[0;32m    990\u001b[0m             n_samples, duration\n\u001b[0;32m    991\u001b[0m         )\n\u001b[0;32m    992\u001b[0m     )\n\u001b[0;32m    994\u001b[0m t0 \u001b[38;5;241m=\u001b[39m time()\n\u001b[1;32m--> 995\u001b[0m distances_nn \u001b[38;5;241m=\u001b[39m \u001b[43mknn\u001b[49m\u001b[38;5;241;43m.\u001b[39;49m\u001b[43mkneighbors_graph\u001b[49m\u001b[43m(\u001b[49m\u001b[43mmode\u001b[49m\u001b[38;5;241;43m=\u001b[39;49m\u001b[38;5;124;43m\"\u001b[39;49m\u001b[38;5;124;43mdistance\u001b[39;49m\u001b[38;5;124;43m\"\u001b[39;49m\u001b[43m)\u001b[49m\n\u001b[0;32m    996\u001b[0m duration \u001b[38;5;241m=\u001b[39m time() \u001b[38;5;241m-\u001b[39m t0\n\u001b[0;32m    997\u001b[0m \u001b[38;5;28;01mif\u001b[39;00m \u001b[38;5;28mself\u001b[39m\u001b[38;5;241m.\u001b[39mverbose:\n",
      "File \u001b[1;32m~\\miniconda3\\Lib\\site-packages\\sklearn\\neighbors\\_base.py:1012\u001b[0m, in \u001b[0;36mKNeighborsMixin.kneighbors_graph\u001b[1;34m(self, X, n_neighbors, mode)\u001b[0m\n\u001b[0;32m   1009\u001b[0m     A_data \u001b[38;5;241m=\u001b[39m np\u001b[38;5;241m.\u001b[39mones(n_queries \u001b[38;5;241m*\u001b[39m n_neighbors)\n\u001b[0;32m   1011\u001b[0m \u001b[38;5;28;01melif\u001b[39;00m mode \u001b[38;5;241m==\u001b[39m \u001b[38;5;124m\"\u001b[39m\u001b[38;5;124mdistance\u001b[39m\u001b[38;5;124m\"\u001b[39m:\n\u001b[1;32m-> 1012\u001b[0m     A_data, A_ind \u001b[38;5;241m=\u001b[39m \u001b[38;5;28;43mself\u001b[39;49m\u001b[38;5;241;43m.\u001b[39;49m\u001b[43mkneighbors\u001b[49m\u001b[43m(\u001b[49m\u001b[43mX\u001b[49m\u001b[43m,\u001b[49m\u001b[43m \u001b[49m\u001b[43mn_neighbors\u001b[49m\u001b[43m,\u001b[49m\u001b[43m \u001b[49m\u001b[43mreturn_distance\u001b[49m\u001b[38;5;241;43m=\u001b[39;49m\u001b[38;5;28;43;01mTrue\u001b[39;49;00m\u001b[43m)\u001b[49m\n\u001b[0;32m   1013\u001b[0m     A_data \u001b[38;5;241m=\u001b[39m np\u001b[38;5;241m.\u001b[39mravel(A_data)\n\u001b[0;32m   1015\u001b[0m \u001b[38;5;28;01melse\u001b[39;00m:\n",
      "File \u001b[1;32m~\\miniconda3\\Lib\\site-packages\\sklearn\\neighbors\\_base.py:849\u001b[0m, in \u001b[0;36mKNeighborsMixin.kneighbors\u001b[1;34m(self, X, n_neighbors, return_distance)\u001b[0m\n\u001b[0;32m    842\u001b[0m use_pairwise_distances_reductions \u001b[38;5;241m=\u001b[39m (\n\u001b[0;32m    843\u001b[0m     \u001b[38;5;28mself\u001b[39m\u001b[38;5;241m.\u001b[39m_fit_method \u001b[38;5;241m==\u001b[39m \u001b[38;5;124m\"\u001b[39m\u001b[38;5;124mbrute\u001b[39m\u001b[38;5;124m\"\u001b[39m\n\u001b[0;32m    844\u001b[0m     \u001b[38;5;129;01mand\u001b[39;00m ArgKmin\u001b[38;5;241m.\u001b[39mis_usable_for(\n\u001b[0;32m    845\u001b[0m         X \u001b[38;5;28;01mif\u001b[39;00m X \u001b[38;5;129;01mis\u001b[39;00m \u001b[38;5;129;01mnot\u001b[39;00m \u001b[38;5;28;01mNone\u001b[39;00m \u001b[38;5;28;01melse\u001b[39;00m \u001b[38;5;28mself\u001b[39m\u001b[38;5;241m.\u001b[39m_fit_X, \u001b[38;5;28mself\u001b[39m\u001b[38;5;241m.\u001b[39m_fit_X, \u001b[38;5;28mself\u001b[39m\u001b[38;5;241m.\u001b[39meffective_metric_\n\u001b[0;32m    846\u001b[0m     )\n\u001b[0;32m    847\u001b[0m )\n\u001b[0;32m    848\u001b[0m \u001b[38;5;28;01mif\u001b[39;00m use_pairwise_distances_reductions:\n\u001b[1;32m--> 849\u001b[0m     results \u001b[38;5;241m=\u001b[39m \u001b[43mArgKmin\u001b[49m\u001b[38;5;241;43m.\u001b[39;49m\u001b[43mcompute\u001b[49m\u001b[43m(\u001b[49m\n\u001b[0;32m    850\u001b[0m \u001b[43m        \u001b[49m\u001b[43mX\u001b[49m\u001b[38;5;241;43m=\u001b[39;49m\u001b[43mX\u001b[49m\u001b[43m,\u001b[49m\n\u001b[0;32m    851\u001b[0m \u001b[43m        \u001b[49m\u001b[43mY\u001b[49m\u001b[38;5;241;43m=\u001b[39;49m\u001b[38;5;28;43mself\u001b[39;49m\u001b[38;5;241;43m.\u001b[39;49m\u001b[43m_fit_X\u001b[49m\u001b[43m,\u001b[49m\n\u001b[0;32m    852\u001b[0m \u001b[43m        \u001b[49m\u001b[43mk\u001b[49m\u001b[38;5;241;43m=\u001b[39;49m\u001b[43mn_neighbors\u001b[49m\u001b[43m,\u001b[49m\n\u001b[0;32m    853\u001b[0m \u001b[43m        \u001b[49m\u001b[43mmetric\u001b[49m\u001b[38;5;241;43m=\u001b[39;49m\u001b[38;5;28;43mself\u001b[39;49m\u001b[38;5;241;43m.\u001b[39;49m\u001b[43meffective_metric_\u001b[49m\u001b[43m,\u001b[49m\n\u001b[0;32m    854\u001b[0m \u001b[43m        \u001b[49m\u001b[43mmetric_kwargs\u001b[49m\u001b[38;5;241;43m=\u001b[39;49m\u001b[38;5;28;43mself\u001b[39;49m\u001b[38;5;241;43m.\u001b[39;49m\u001b[43meffective_metric_params_\u001b[49m\u001b[43m,\u001b[49m\n\u001b[0;32m    855\u001b[0m \u001b[43m        \u001b[49m\u001b[43mstrategy\u001b[49m\u001b[38;5;241;43m=\u001b[39;49m\u001b[38;5;124;43m\"\u001b[39;49m\u001b[38;5;124;43mauto\u001b[39;49m\u001b[38;5;124;43m\"\u001b[39;49m\u001b[43m,\u001b[49m\n\u001b[0;32m    856\u001b[0m \u001b[43m        \u001b[49m\u001b[43mreturn_distance\u001b[49m\u001b[38;5;241;43m=\u001b[39;49m\u001b[43mreturn_distance\u001b[49m\u001b[43m,\u001b[49m\n\u001b[0;32m    857\u001b[0m \u001b[43m    \u001b[49m\u001b[43m)\u001b[49m\n\u001b[0;32m    859\u001b[0m \u001b[38;5;28;01melif\u001b[39;00m (\n\u001b[0;32m    860\u001b[0m     \u001b[38;5;28mself\u001b[39m\u001b[38;5;241m.\u001b[39m_fit_method \u001b[38;5;241m==\u001b[39m \u001b[38;5;124m\"\u001b[39m\u001b[38;5;124mbrute\u001b[39m\u001b[38;5;124m\"\u001b[39m \u001b[38;5;129;01mand\u001b[39;00m \u001b[38;5;28mself\u001b[39m\u001b[38;5;241m.\u001b[39mmetric \u001b[38;5;241m==\u001b[39m \u001b[38;5;124m\"\u001b[39m\u001b[38;5;124mprecomputed\u001b[39m\u001b[38;5;124m\"\u001b[39m \u001b[38;5;129;01mand\u001b[39;00m issparse(X)\n\u001b[0;32m    861\u001b[0m ):\n\u001b[0;32m    862\u001b[0m     results \u001b[38;5;241m=\u001b[39m _kneighbors_from_graph(\n\u001b[0;32m    863\u001b[0m         X, n_neighbors\u001b[38;5;241m=\u001b[39mn_neighbors, return_distance\u001b[38;5;241m=\u001b[39mreturn_distance\n\u001b[0;32m    864\u001b[0m     )\n",
      "File \u001b[1;32m~\\miniconda3\\Lib\\site-packages\\sklearn\\metrics\\_pairwise_distances_reduction\\_dispatcher.py:290\u001b[0m, in \u001b[0;36mArgKmin.compute\u001b[1;34m(cls, X, Y, k, metric, chunk_size, metric_kwargs, strategy, return_distance)\u001b[0m\n\u001b[0;32m    278\u001b[0m     \u001b[38;5;28;01mreturn\u001b[39;00m ArgKmin64\u001b[38;5;241m.\u001b[39mcompute(\n\u001b[0;32m    279\u001b[0m         X\u001b[38;5;241m=\u001b[39mX,\n\u001b[0;32m    280\u001b[0m         Y\u001b[38;5;241m=\u001b[39mY,\n\u001b[1;32m   (...)\u001b[0m\n\u001b[0;32m    286\u001b[0m         return_distance\u001b[38;5;241m=\u001b[39mreturn_distance,\n\u001b[0;32m    287\u001b[0m     )\n\u001b[0;32m    289\u001b[0m \u001b[38;5;28;01mif\u001b[39;00m X\u001b[38;5;241m.\u001b[39mdtype \u001b[38;5;241m==\u001b[39m Y\u001b[38;5;241m.\u001b[39mdtype \u001b[38;5;241m==\u001b[39m np\u001b[38;5;241m.\u001b[39mfloat32:\n\u001b[1;32m--> 290\u001b[0m     \u001b[38;5;28;01mreturn\u001b[39;00m \u001b[43mArgKmin32\u001b[49m\u001b[38;5;241;43m.\u001b[39;49m\u001b[43mcompute\u001b[49m\u001b[43m(\u001b[49m\n\u001b[0;32m    291\u001b[0m \u001b[43m        \u001b[49m\u001b[43mX\u001b[49m\u001b[38;5;241;43m=\u001b[39;49m\u001b[43mX\u001b[49m\u001b[43m,\u001b[49m\n\u001b[0;32m    292\u001b[0m \u001b[43m        \u001b[49m\u001b[43mY\u001b[49m\u001b[38;5;241;43m=\u001b[39;49m\u001b[43mY\u001b[49m\u001b[43m,\u001b[49m\n\u001b[0;32m    293\u001b[0m \u001b[43m        \u001b[49m\u001b[43mk\u001b[49m\u001b[38;5;241;43m=\u001b[39;49m\u001b[43mk\u001b[49m\u001b[43m,\u001b[49m\n\u001b[0;32m    294\u001b[0m \u001b[43m        \u001b[49m\u001b[43mmetric\u001b[49m\u001b[38;5;241;43m=\u001b[39;49m\u001b[43mmetric\u001b[49m\u001b[43m,\u001b[49m\n\u001b[0;32m    295\u001b[0m \u001b[43m        \u001b[49m\u001b[43mchunk_size\u001b[49m\u001b[38;5;241;43m=\u001b[39;49m\u001b[43mchunk_size\u001b[49m\u001b[43m,\u001b[49m\n\u001b[0;32m    296\u001b[0m \u001b[43m        \u001b[49m\u001b[43mmetric_kwargs\u001b[49m\u001b[38;5;241;43m=\u001b[39;49m\u001b[43mmetric_kwargs\u001b[49m\u001b[43m,\u001b[49m\n\u001b[0;32m    297\u001b[0m \u001b[43m        \u001b[49m\u001b[43mstrategy\u001b[49m\u001b[38;5;241;43m=\u001b[39;49m\u001b[43mstrategy\u001b[49m\u001b[43m,\u001b[49m\n\u001b[0;32m    298\u001b[0m \u001b[43m        \u001b[49m\u001b[43mreturn_distance\u001b[49m\u001b[38;5;241;43m=\u001b[39;49m\u001b[43mreturn_distance\u001b[49m\u001b[43m,\u001b[49m\n\u001b[0;32m    299\u001b[0m \u001b[43m    \u001b[49m\u001b[43m)\u001b[49m\n\u001b[0;32m    301\u001b[0m \u001b[38;5;28;01mraise\u001b[39;00m \u001b[38;5;167;01mValueError\u001b[39;00m(\n\u001b[0;32m    302\u001b[0m     \u001b[38;5;124m\"\u001b[39m\u001b[38;5;124mOnly float64 or float32 datasets pairs are supported at this time, \u001b[39m\u001b[38;5;124m\"\u001b[39m\n\u001b[0;32m    303\u001b[0m     \u001b[38;5;124mf\u001b[39m\u001b[38;5;124m\"\u001b[39m\u001b[38;5;124mgot: X.dtype=\u001b[39m\u001b[38;5;132;01m{\u001b[39;00mX\u001b[38;5;241m.\u001b[39mdtype\u001b[38;5;132;01m}\u001b[39;00m\u001b[38;5;124m and Y.dtype=\u001b[39m\u001b[38;5;132;01m{\u001b[39;00mY\u001b[38;5;241m.\u001b[39mdtype\u001b[38;5;132;01m}\u001b[39;00m\u001b[38;5;124m.\u001b[39m\u001b[38;5;124m\"\u001b[39m\n\u001b[0;32m    304\u001b[0m )\n",
      "File \u001b[1;32msklearn\\\\metrics\\\\_pairwise_distances_reduction\\\\_argkmin.pyx:550\u001b[0m, in \u001b[0;36msklearn.metrics._pairwise_distances_reduction._argkmin.ArgKmin32.compute\u001b[1;34m()\u001b[0m\n",
      "File \u001b[1;32msklearn\\\\metrics\\\\_pairwise_distances_reduction\\\\_argkmin.pyx:568\u001b[0m, in \u001b[0;36msklearn.metrics._pairwise_distances_reduction._argkmin.ArgKmin32.compute\u001b[1;34m()\u001b[0m\n",
      "File \u001b[1;32msklearn\\\\metrics\\\\_pairwise_distances_reduction\\\\_argkmin.pyx:839\u001b[0m, in \u001b[0;36msklearn.metrics._pairwise_distances_reduction._argkmin.EuclideanArgKmin32.__init__\u001b[1;34m()\u001b[0m\n",
      "File \u001b[1;32msklearn\\\\metrics\\\\_pairwise_distances_reduction\\\\_middle_term_computer.pyx:634\u001b[0m, in \u001b[0;36msklearn.metrics._pairwise_distances_reduction._middle_term_computer.MiddleTermComputer32.get_for\u001b[1;34m()\u001b[0m\n",
      "File \u001b[1;32msklearn\\\\metrics\\\\_pairwise_distances_reduction\\\\_middle_term_computer.pyx:802\u001b[0m, in \u001b[0;36msklearn.metrics._pairwise_distances_reduction._middle_term_computer.DenseDenseMiddleTermComputer32.__init__\u001b[1;34m()\u001b[0m\n",
      "\u001b[1;31mMemoryError\u001b[0m: bad allocation"
     ]
    }
   ],
   "source": [
    "# TEST ET\n",
    "# 7. Yörüngelerin t-SNE ile 2 Boyuta İndirgenmesi\n",
    "\n",
    "# Tüm yörüngeleri birleştir\n",
    "all_trajectories = []\n",
    "labels = []\n",
    "\n",
    "for idx in range(len(initial_weights)):\n",
    "    for opt_name in optimizer_configs.keys():\n",
    "        traj = trajectories[opt_name][idx]\n",
    "        all_trajectories.append(traj)\n",
    "        labels.append(opt_name)\n",
    "\n",
    "# Yörüngeleri birleştir ve şekillendir\n",
    "all_points = np.concatenate(all_trajectories, axis=0)\n",
    "\n",
    "# t-SNE uygulaması\n",
    "# n_iter=1000\n",
    "tsne = TSNE(n_components=2, random_state=42, perplexity=50, n_iter=250, learning_rate='auto', init='pca', verbose=1)\n",
    "tsne_results = tsne.fit_transform(all_points)\n",
    "\n",
    "# Her yörüngenin başlangıç ve bitiş indekslerini bul\n",
    "trajectory_lengths = [len(traj) for traj in all_trajectories]"
   ]
  },
  {
   "cell_type": "code",
   "execution_count": null,
   "metadata": {
    "colab": {
     "base_uri": "https://localhost:8080/",
     "height": 718
    },
    "executionInfo": {
     "elapsed": 1454,
     "status": "ok",
     "timestamp": 1731943396560,
     "user": {
      "displayName": "Ahmed Ugur",
      "userId": "07278114889288036484"
     },
     "user_tz": -180
    },
    "id": "Hjip0OJnOsGp",
    "outputId": "40ffd893-5383-40a8-b306-41a48cc7b597"
   },
   "outputs": [],
   "source": [
    "# TEST ET\n",
    "# 8. Yörüngelerin Görselleştirilmesi\n",
    "\n",
    "# Renkleri belirle\n",
    "colors = {'SGD': 'r', 'SGD_momentum': 'g', 'Adam': 'b'}\n",
    "\n",
    "plt.figure(figsize=(12, 8))\n",
    "\n",
    "start_idx = 0\n",
    "for i, (opt_name, traj_len) in enumerate(zip(labels, trajectory_lengths)):\n",
    "    end_idx = start_idx + traj_len\n",
    "    x = tsne_results[start_idx:end_idx, 0]\n",
    "    y = tsne_results[start_idx:end_idx, 1]\n",
    "    # Her yörüngeyi çiz\n",
    "    plt.plot(x, y, color=colors[opt_name],marker='o', label=opt_name if i % 5 == 0 else \"\", alpha=0.7)\n",
    "    start_idx = end_idx\n",
    "\n",
    "# Legend'da sadece algoritmaları göstermek için benzersiz etiketleri alalım\n",
    "handles, labels_unique = plt.gca().get_legend_handles_labels()\n",
    "by_label = dict(zip(labels_unique, handles))\n",
    "plt.legend(by_label.values(), by_label.keys())\n",
    "\n",
    "plt.title('Optimizasyon Yörüngeleri')\n",
    "plt.xlabel('t-SNE Bileşen 1')\n",
    "plt.ylabel('t-SNE Bileşen 2')\n",
    "plt.show()"
   ]
  },
  {
   "cell_type": "code",
   "execution_count": null,
   "metadata": {
    "colab": {
     "base_uri": "https://localhost:8080/",
     "height": 718
    },
    "executionInfo": {
     "elapsed": 839,
     "status": "ok",
     "timestamp": 1731943405030,
     "user": {
      "displayName": "Ahmed Ugur",
      "userId": "07278114889288036484"
     },
     "user_tz": -180
    },
    "id": "4ifz_gmW3c7Q",
    "outputId": "54b055d1-2488-4efd-c151-92b1fdb79404"
   },
   "outputs": [],
   "source": [
    "# TEST ET\n",
    "# 8. Yörüngelerin Görselleştirilmesi\n",
    "\n",
    "# Renkleri belirle\n",
    "colors = {'SGD': 'r', 'SGD_momentum': 'g', 'Adam': 'b'}\n",
    "\n",
    "plt.figure(figsize=(12, 8))\n",
    "\n",
    "start_idx = 0\n",
    "for i, (opt_name, traj_len) in enumerate(zip(labels, trajectory_lengths)):\n",
    "    end_idx = start_idx + traj_len\n",
    "    x = tsne_results[start_idx:end_idx, 0]\n",
    "    y = tsne_results[start_idx:end_idx, 1]\n",
    "    # Her yörüngeyi çiz\n",
    "    plt.plot(x, y, color=colors[opt_name], label=opt_name if i % 5 == 0 else \"\", alpha=0.7)\n",
    "    start_idx = end_idx\n",
    "\n",
    "# Legend'da sadece algoritmaları göstermek için benzersiz etiketleri alalım\n",
    "handles, labels_unique = plt.gca().get_legend_handles_labels()\n",
    "by_label = dict(zip(labels_unique, handles))\n",
    "plt.legend(by_label.values(), by_label.keys())\n",
    "\n",
    "plt.title('Optimizasyon Yörüngeleri')\n",
    "plt.xlabel('t-SNE Bileşen 1')\n",
    "plt.ylabel('t-SNE Bileşen 2')\n",
    "plt.show()"
   ]
  },
  {
   "cell_type": "code",
   "execution_count": null,
   "metadata": {
    "colab": {
     "base_uri": "https://localhost:8080/",
     "height": 354
    },
    "executionInfo": {
     "elapsed": 2197,
     "status": "ok",
     "timestamp": 1731943224672,
     "user": {
      "displayName": "Ahmed Ugur",
      "userId": "07278114889288036484"
     },
     "user_tz": -180
    },
    "id": "VwCDMeOdPHo2",
    "outputId": "ac546175-4bc7-4834-ed49-79112a2c3445"
   },
   "outputs": [],
   "source": [
    "# Epoch vs Loss\n",
    "# Optimizasyon algoritmalarının isimlerini alıyoruz\n",
    "optimizer_names = list(optimizer_configs.keys())\n",
    "\n",
    "# 3 tane alt grafik\n",
    "num_algorithms = len(optimizer_names)\n",
    "\n",
    "# Alt grafiklerin boyutlarını ayarlıyoruz\n",
    "fig, axes = plt.subplots(nrows=1, ncols=num_algorithms, figsize=(6*num_algorithms, 5), sharey=True)\n",
    "\n",
    "# Eğer tek bir grafik varsa, axes'i liste haline getirelim\n",
    "if num_algorithms == 1:\n",
    "    axes = [axes]\n",
    "\n",
    "for idx, opt_name in enumerate(optimizer_names):\n",
    "    ax = axes[idx]\n",
    "    # Her algoritma için tüm başlangıç noktalarındaki eğitim geçmişini çizeceğiz\n",
    "    for history in history_records[opt_name]:\n",
    "        # Eğitim kaybı (Train Loss)\n",
    "        ax.plot(history['loss'], linestyle='-', color=colors[opt_name],\n",
    "                label='Train' if history == history_records[opt_name][0] else \"\")\n",
    "        # Doğrulama kaybı (Validation Loss)\n",
    "        ax.plot(history['val_loss'], linestyle='--', color=colors[opt_name],\n",
    "                label='Validation' if history == history_records[opt_name][0] else \"\")\n",
    "\n",
    "    ax.set_title(f'{opt_name} - Epoch vs Loss')\n",
    "    ax.set_xlabel('Epoch')\n",
    "    ax.set_ylabel('Loss')\n",
    "    ax.legend()\n",
    "    ax.grid(True)\n",
    "\n",
    "plt.tight_layout()\n",
    "plt.show()\n"
   ]
  },
  {
   "cell_type": "code",
   "execution_count": null,
   "metadata": {
    "colab": {
     "base_uri": "https://localhost:8080/",
     "height": 354
    },
    "executionInfo": {
     "elapsed": 2429,
     "status": "ok",
     "timestamp": 1731943232544,
     "user": {
      "displayName": "Ahmed Ugur",
      "userId": "07278114889288036484"
     },
     "user_tz": -180
    },
    "id": "LshH7V3avDIc",
    "outputId": "732fc87b-743b-4120-97cb-73285a7fbdb9"
   },
   "outputs": [],
   "source": [
    "# Epoch vs Accuracy\n",
    "# Alt grafiklerin boyutlarını ayarlıyoruz\n",
    "fig, axes = plt.subplots(nrows=1, ncols=num_algorithms, figsize=(6*num_algorithms, 5), sharey=True)\n",
    "\n",
    "# Eğer tek bir grafik varsa, axes'i liste haline getirelim\n",
    "if num_algorithms == 1:\n",
    "    axes = [axes]\n",
    "\n",
    "for idx, opt_name in enumerate(optimizer_names):\n",
    "    ax = axes[idx]\n",
    "    # Her algoritma için tüm başlangıç noktalarındaki eğitim geçmişini çizeceğiz\n",
    "    for history in history_records[opt_name]:\n",
    "        # Eğitim doğruluğu (Train Accuracy)\n",
    "        ax.plot(history['accuracy'], linestyle='-', color=colors[opt_name],\n",
    "                label='Train' if history == history_records[opt_name][0] else \"\")\n",
    "        # Doğrulama doğruluğu (Validation Accuracy)\n",
    "        ax.plot(history['val_accuracy'], linestyle='--', color=colors[opt_name],\n",
    "                label='Validation' if history == history_records[opt_name][0] else \"\")\n",
    "\n",
    "    ax.set_title(f'{opt_name} - Epoch vs Accuracy')\n",
    "    ax.set_xlabel('Epoch')\n",
    "    ax.set_ylabel('Accuracy')\n",
    "    ax.legend()\n",
    "    ax.grid(True)\n",
    "\n",
    "plt.tight_layout()\n",
    "plt.show()\n"
   ]
  },
  {
   "cell_type": "code",
   "execution_count": null,
   "metadata": {
    "colab": {
     "base_uri": "https://localhost:8080/",
     "height": 354
    },
    "executionInfo": {
     "elapsed": 2074,
     "status": "ok",
     "timestamp": 1731943243391,
     "user": {
      "displayName": "Ahmed Ugur",
      "userId": "07278114889288036484"
     },
     "user_tz": -180
    },
    "id": "gIyLpb9fvatM",
    "outputId": "8ea13521-c315-4f98-d805-f5b48c5d780a"
   },
   "outputs": [],
   "source": [
    "# Time vs Loss\n",
    "# Alt grafiklerin boyutlarını ayarlıyoruz\n",
    "fig, axes = plt.subplots(nrows=1, ncols=num_algorithms, figsize=(6*num_algorithms, 5), sharey=True)\n",
    "\n",
    "# Eğer tek bir grafik varsa, axes'i liste haline getirelim\n",
    "if num_algorithms == 1:\n",
    "    axes = [axes]\n",
    "\n",
    "for idx, opt_name in enumerate(optimizer_names):\n",
    "    ax = axes[idx]\n",
    "    # Her algoritma için tüm başlangıç noktalarındaki eğitim geçmişini çizeceğiz\n",
    "    for idx_hist, (history, times) in enumerate(zip(history_records[opt_name], time_records[opt_name])):\n",
    "        cumulative_times = np.cumsum(times)\n",
    "        # Eğitim kaybı (Train Loss)\n",
    "        ax.plot(cumulative_times, history['loss'], linestyle='-', color=colors[opt_name],\n",
    "                label='Train' if idx_hist == 0 else \"\")\n",
    "        # Doğrulama kaybı (Validation Loss)\n",
    "        ax.plot(cumulative_times, history['val_loss'], linestyle='--', color=colors[opt_name],\n",
    "                label='Validation' if idx_hist == 0 else \"\")\n",
    "\n",
    "    ax.set_title(f'{opt_name} - Time vs Loss')\n",
    "    ax.set_xlabel('Time (s)')\n",
    "    ax.set_ylabel('Loss')\n",
    "    ax.legend()\n",
    "    ax.grid(True)\n",
    "\n",
    "plt.tight_layout()\n",
    "plt.show()\n"
   ]
  },
  {
   "cell_type": "code",
   "execution_count": null,
   "metadata": {
    "colab": {
     "base_uri": "https://localhost:8080/",
     "height": 718
    },
    "executionInfo": {
     "elapsed": 1948,
     "status": "ok",
     "timestamp": 1731943290944,
     "user": {
      "displayName": "Ahmed Ugur",
      "userId": "07278114889288036484"
     },
     "user_tz": -180
    },
    "id": "sQ_eThji3JRP",
    "outputId": "6b7f8957-39bc-4e38-c3bf-f693c1eb9add"
   },
   "outputs": [],
   "source": [
    "#### Epoch vs Loss Grafiği (Tümü)\n",
    "\n",
    "plt.figure(figsize=(12, 8))\n",
    "\n",
    "for opt_name in optimizer_configs.keys():\n",
    "    for history in history_records[opt_name]:\n",
    "        # Eğitim kaybı (Train Loss)\n",
    "        plt.plot(history['loss'], linestyle='-', color=colors[opt_name],\n",
    "                 label=f\"{opt_name} - Train\" if history == history_records[opt_name][0] else \"\")\n",
    "        # Doğrulama kaybı (Validation Loss)\n",
    "        plt.plot(history['val_loss'], linestyle='--', color=colors[opt_name],\n",
    "                 label=f\"{opt_name} - Validation\" if history == history_records[opt_name][0] else \"\")\n",
    "\n",
    "plt.title('Epoch vs Loss')\n",
    "plt.xlabel('Epoch')\n",
    "plt.ylabel('Loss')\n",
    "plt.legend()\n",
    "plt.show()\n"
   ]
  },
  {
   "cell_type": "code",
   "execution_count": null,
   "metadata": {
    "colab": {
     "base_uri": "https://localhost:8080/",
     "height": 718
    },
    "executionInfo": {
     "elapsed": 1977,
     "status": "ok",
     "timestamp": 1731943303148,
     "user": {
      "displayName": "Ahmed Ugur",
      "userId": "07278114889288036484"
     },
     "user_tz": -180
    },
    "id": "TvSsFpPa3Uz_",
    "outputId": "94e635cc-b4a2-4838-fffe-45326149edcc"
   },
   "outputs": [],
   "source": [
    "#### Time vs Loss Grafiği (TÜMÜ)\n",
    "\n",
    "plt.figure(figsize=(12, 8))\n",
    "\n",
    "for opt_name in optimizer_configs.keys():\n",
    "    for idx, (history, times) in enumerate(zip(history_records[opt_name], time_records[opt_name])):\n",
    "        cumulative_times = np.cumsum(times)\n",
    "        # Eğitim kaybı (Train Loss)\n",
    "        plt.plot(cumulative_times, history['loss'], linestyle='-', color=colors[opt_name],\n",
    "                 label=f\"{opt_name} - Train\" if idx == 0 else \"\")\n",
    "        # Doğrulama kaybı (Validation Loss)\n",
    "        plt.plot(cumulative_times, history['val_loss'], linestyle='--', color=colors[opt_name],\n",
    "                 label=f\"{opt_name} - Validation\" if idx == 0 else \"\")\n",
    "\n",
    "plt.title('Time vs Loss')\n",
    "plt.xlabel('Time (s)')\n",
    "plt.ylabel('Loss')\n",
    "plt.legend()\n",
    "plt.show()\n"
   ]
  },
  {
   "cell_type": "code",
   "execution_count": null,
   "metadata": {
    "id": "t8R-D9Cn3Xjf"
   },
   "outputs": [],
   "source": []
  }
 ],
 "metadata": {
  "accelerator": "GPU",
  "colab": {
   "authorship_tag": "ABX9TyPsrlNVH/EO0gyod/6Ok57Z",
   "gpuType": "L4",
   "machine_shape": "hm",
   "provenance": []
  },
  "kernelspec": {
   "display_name": "Python 3 (ipykernel)",
   "language": "python",
   "name": "python3"
  },
  "language_info": {
   "codemirror_mode": {
    "name": "ipython",
    "version": 3
   },
   "file_extension": ".py",
   "mimetype": "text/x-python",
   "name": "python",
   "nbconvert_exporter": "python",
   "pygments_lexer": "ipython3",
   "version": "3.12.7"
  }
 },
 "nbformat": 4,
 "nbformat_minor": 4
}
